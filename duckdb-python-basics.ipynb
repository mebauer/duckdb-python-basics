{
 "cells": [
  {
   "cell_type": "markdown",
   "id": "0426c49f",
   "metadata": {},
   "source": [
    "# DuckDB Python Client Basics"
   ]
  },
  {
   "cell_type": "markdown",
   "id": "7c460034",
   "metadata": {},
   "source": [
    "This guide is based on the DuckDB documentation here: https://duckdb.org/docs/api/python/overview. In some parts, it takes directly from the example code."
   ]
  },
  {
   "cell_type": "code",
   "execution_count": 135,
   "id": "ea8b1c86",
   "metadata": {
    "scrolled": true
   },
   "outputs": [
    {
     "name": "stdout",
     "output_type": "stream",
     "text": [
      "duckdb version: 0.10.0\n"
     ]
    }
   ],
   "source": [
    "import duckdb\n",
    "import pandas as pd\n",
    "import numpy as np\n",
    "import polars as pl\n",
    "import pyarrow as pa\n",
    "import os.path\n",
    "\n",
    "print(\"duckdb version: {}\".format(duckdb.__version__))"
   ]
  },
  {
   "cell_type": "markdown",
   "id": "ba0d656e",
   "metadata": {},
   "source": [
    "# Basic Python API Usage"
   ]
  },
  {
   "cell_type": "code",
   "execution_count": 136,
   "id": "aea81e2e",
   "metadata": {},
   "outputs": [
    {
     "name": "stdout",
     "output_type": "stream",
     "text": [
      "┌───────┬──────────────┬─────────┬─────────┐\n",
      "│   1   │     2.0      │   'a'   │ 'TRUE'  │\n",
      "│ int32 │ decimal(2,1) │ varchar │ varchar │\n",
      "├───────┼──────────────┼─────────┼─────────┤\n",
      "│     1 │          2.0 │ a       │ TRUE    │\n",
      "└───────┴──────────────┴─────────┴─────────┘\n",
      "\n"
     ]
    }
   ],
   "source": [
    "duckdb.sql(\"SELECT 1, 2.0, 'a', 'TRUE'\").show()"
   ]
  },
  {
   "cell_type": "code",
   "execution_count": 137,
   "id": "c68e7c41",
   "metadata": {},
   "outputs": [
    {
     "name": "stdout",
     "output_type": "stream",
     "text": [
      "┌───────┐\n",
      "│   k   │\n",
      "│ int32 │\n",
      "├───────┤\n",
      "│    84 │\n",
      "└───────┘\n",
      "\n"
     ]
    }
   ],
   "source": [
    "relation = duckdb.sql(\n",
    "    \"SELECT 42 AS i\"\n",
    ")\n",
    "\n",
    "(duckdb\n",
    " .sql(\"SELECT i * 2 AS k FROM relation\")\n",
    " .show()\n",
    ")"
   ]
  },
  {
   "cell_type": "markdown",
   "id": "9bfe67af",
   "metadata": {},
   "source": [
    "# Data Input\n",
    "We will focus on reading CSVs for now."
   ]
  },
  {
   "cell_type": "code",
   "execution_count": 138,
   "id": "eb9658fa",
   "metadata": {},
   "outputs": [
    {
     "data": {
      "text/plain": [
       "┌──────────────────────┬──────────┬───────────┬────────────┬───┬────────────┬────────────────────┬─────────────────┐\n",
       "│       the_geom       │ Asset_ID │   GI_ID   │ DEP_Contra │ … │ Construc_1 │     Program_Ar     │   Status_Gro    │\n",
       "│       varchar        │  int64   │  varchar  │  varchar   │   │  varchar   │      varchar       │     varchar     │\n",
       "├──────────────────────┼──────────┼───────────┼────────────┼───┼────────────┼────────────────────┼─────────────────┤\n",
       "│ POINT (-73.8116762…  │    94002 │ 1A        │ GQJA03-02  │ … │ Package-1  │ Right of Way (ROW) │ Constructed     │\n",
       "│ POINT (-73.8122857…  │    94012 │ GS6A      │ GQJA03-02  │ … │ Package-1  │ Right of Way (ROW) │ Constructed     │\n",
       "│ POINT (-73.8122344…  │    94017 │ GS8C      │ GQJA03-02  │ … │ Package-1  │ Right of Way (ROW) │ Constructed     │\n",
       "│ POINT (-73.8120597…  │    94019 │ GS8E      │ GQJA03-02  │ … │ Package-1  │ Right of Way (ROW) │ Constructed     │\n",
       "│ POINT (-73.8131019…  │    94021 │ 10A       │ GQJA03-02  │ … │ Package-1  │ Right of Way (ROW) │ Constructed     │\n",
       "│ POINT (-73.8126597…  │    94031 │ 16A       │ GQJA03-02  │ … │ Package-1  │ Right of Way (ROW) │ Constructed     │\n",
       "│ POINT (-73.8125273…  │    94033 │ 16C       │ GQJA03-02  │ … │ Package-1  │ Right of Way (ROW) │ Constructed     │\n",
       "│ POINT (-73.8124855…  │    94034 │ 16D       │ GQJA03-02  │ … │ Package-1  │ Right of Way (ROW) │ Constructed     │\n",
       "│ POINT (-73.8123016…  │    94036 │ GS18A     │ GQJA03-02  │ … │ Package-1  │ Right of Way (ROW) │ Constructed     │\n",
       "│ POINT (-73.8130240…  │    94037 │ 19A       │ GQJA03-02  │ … │ Package-1  │ Right of Way (ROW) │ Constructed     │\n",
       "│          ·           │      ·   │  ·        │     ·      │ · │     ·      │         ·          │      ·          │\n",
       "│          ·           │      ·   │  ·        │     ·      │ · │     ·      │         ·          │      ·          │\n",
       "│          ·           │      ·   │  ·        │     ·      │ · │     ·      │         ·          │      ·          │\n",
       "│ POINT (-73.9494214…  │   181466 │ 2-IB264c  │ GKNC14-06  │ … │ Package_3  │ Right of Way (ROW) │ Constructed     │\n",
       "│ POINT (-73.9502633…  │   181467 │ 2-IB265d  │ GKNC14-06  │ … │ Package_3  │ Right of Way (ROW) │ Constructed     │\n",
       "│ POINT (-73.9403260…  │   181470 │ 2-IB398d  │ GKNC14-06  │ … │ Package_3  │ Right of Way (ROW) │ Constructed     │\n",
       "│ POINT (-73.9415437…  │   181471 │ 2-IB459d  │ GKNC14-06  │ … │ Package_3  │ Right of Way (ROW) │ Constructed     │\n",
       "│ POINT (-73.9754266…  │   181474 │ 3-IB74d   │ GKNC14-07  │ … │ Package_3  │ Right of Way (ROW) │ Constructed     │\n",
       "│ POINT (-73.8139851…  │   181483 │ RG01      │ QG-119M    │ … │ NULL       │ Public Onsite      │ In Construction │\n",
       "│ POINT (-73.8816425…  │   181488 │ IB1872a   │ GK26W5-04  │ … │ 3          │ Right of Way (ROW) │ Constructed     │\n",
       "│ POINT (-73.8841745…  │   181489 │ IB1911a   │ GK26W5-04  │ … │ 3          │ Right of Way (ROW) │ Constructed     │\n",
       "│ POINT (-73.8753020…  │   181490 │ IB1921a   │ GK26W5-04  │ … │ 3          │ Right of Way (ROW) │ Constructed     │\n",
       "│ POINT (-73.8748961…  │   181491 │ IB1921-1a │ GK26W5-04  │ … │ 3          │ Right of Way (ROW) │ Constructed     │\n",
       "├──────────────────────┴──────────┴───────────┴────────────┴───┴────────────┴────────────────────┴─────────────────┤\n",
       "│ ? rows (>9999 rows, 20 shown)                                                               30 columns (7 shown) │\n",
       "└──────────────────────────────────────────────────────────────────────────────────────────────────────────────────┘"
      ]
     },
     "execution_count": 138,
     "metadata": {},
     "output_type": "execute_result"
    }
   ],
   "source": [
    "# reading in a CSV with the duckdb.read_csv() function\n",
    "path = \"data/green_infrastructure.csv\"\n",
    "duckdb.read_csv(path)"
   ]
  },
  {
   "cell_type": "code",
   "execution_count": 139,
   "id": "d32a2553",
   "metadata": {},
   "outputs": [
    {
     "data": {
      "text/plain": [
       "┌──────────────────────┬──────────┬───────────┬────────────┬───┬────────────┬────────────────────┬─────────────────┐\n",
       "│       the_geom       │ Asset_ID │   GI_ID   │ DEP_Contra │ … │ Construc_1 │     Program_Ar     │   Status_Gro    │\n",
       "│       varchar        │  int64   │  varchar  │  varchar   │   │  varchar   │      varchar       │     varchar     │\n",
       "├──────────────────────┼──────────┼───────────┼────────────┼───┼────────────┼────────────────────┼─────────────────┤\n",
       "│ POINT (-73.8116762…  │    94002 │ 1A        │ GQJA03-02  │ … │ Package-1  │ Right of Way (ROW) │ Constructed     │\n",
       "│ POINT (-73.8122857…  │    94012 │ GS6A      │ GQJA03-02  │ … │ Package-1  │ Right of Way (ROW) │ Constructed     │\n",
       "│ POINT (-73.8122344…  │    94017 │ GS8C      │ GQJA03-02  │ … │ Package-1  │ Right of Way (ROW) │ Constructed     │\n",
       "│ POINT (-73.8120597…  │    94019 │ GS8E      │ GQJA03-02  │ … │ Package-1  │ Right of Way (ROW) │ Constructed     │\n",
       "│ POINT (-73.8131019…  │    94021 │ 10A       │ GQJA03-02  │ … │ Package-1  │ Right of Way (ROW) │ Constructed     │\n",
       "│ POINT (-73.8126597…  │    94031 │ 16A       │ GQJA03-02  │ … │ Package-1  │ Right of Way (ROW) │ Constructed     │\n",
       "│ POINT (-73.8125273…  │    94033 │ 16C       │ GQJA03-02  │ … │ Package-1  │ Right of Way (ROW) │ Constructed     │\n",
       "│ POINT (-73.8124855…  │    94034 │ 16D       │ GQJA03-02  │ … │ Package-1  │ Right of Way (ROW) │ Constructed     │\n",
       "│ POINT (-73.8123016…  │    94036 │ GS18A     │ GQJA03-02  │ … │ Package-1  │ Right of Way (ROW) │ Constructed     │\n",
       "│ POINT (-73.8130240…  │    94037 │ 19A       │ GQJA03-02  │ … │ Package-1  │ Right of Way (ROW) │ Constructed     │\n",
       "│          ·           │      ·   │  ·        │     ·      │ · │     ·      │         ·          │      ·          │\n",
       "│          ·           │      ·   │  ·        │     ·      │ · │     ·      │         ·          │      ·          │\n",
       "│          ·           │      ·   │  ·        │     ·      │ · │     ·      │         ·          │      ·          │\n",
       "│ POINT (-73.9494214…  │   181466 │ 2-IB264c  │ GKNC14-06  │ … │ Package_3  │ Right of Way (ROW) │ Constructed     │\n",
       "│ POINT (-73.9502633…  │   181467 │ 2-IB265d  │ GKNC14-06  │ … │ Package_3  │ Right of Way (ROW) │ Constructed     │\n",
       "│ POINT (-73.9403260…  │   181470 │ 2-IB398d  │ GKNC14-06  │ … │ Package_3  │ Right of Way (ROW) │ Constructed     │\n",
       "│ POINT (-73.9415437…  │   181471 │ 2-IB459d  │ GKNC14-06  │ … │ Package_3  │ Right of Way (ROW) │ Constructed     │\n",
       "│ POINT (-73.9754266…  │   181474 │ 3-IB74d   │ GKNC14-07  │ … │ Package_3  │ Right of Way (ROW) │ Constructed     │\n",
       "│ POINT (-73.8139851…  │   181483 │ RG01      │ QG-119M    │ … │ NULL       │ Public Onsite      │ In Construction │\n",
       "│ POINT (-73.8816425…  │   181488 │ IB1872a   │ GK26W5-04  │ … │ 3          │ Right of Way (ROW) │ Constructed     │\n",
       "│ POINT (-73.8841745…  │   181489 │ IB1911a   │ GK26W5-04  │ … │ 3          │ Right of Way (ROW) │ Constructed     │\n",
       "│ POINT (-73.8753020…  │   181490 │ IB1921a   │ GK26W5-04  │ … │ 3          │ Right of Way (ROW) │ Constructed     │\n",
       "│ POINT (-73.8748961…  │   181491 │ IB1921-1a │ GK26W5-04  │ … │ 3          │ Right of Way (ROW) │ Constructed     │\n",
       "├──────────────────────┴──────────┴───────────┴────────────┴───┴────────────┴────────────────────┴─────────────────┤\n",
       "│ ? rows (>9999 rows, 20 shown)                                                               30 columns (7 shown) │\n",
       "└──────────────────────────────────────────────────────────────────────────────────────────────────────────────────┘"
      ]
     },
     "execution_count": 139,
     "metadata": {},
     "output_type": "execute_result"
    }
   ],
   "source": [
    "# reading in a CSV by opening a connection and copying data to a table\n",
    "con = duckdb.connect()\n",
    "\n",
    "con.sql(\n",
    "    \"CREATE TABLE green_infrastructure AS FROM read_csv('data/green_infrastructure.csv')\"\n",
    ")\n",
    "\n",
    "con.sql(\n",
    "    \"SELECT * FROM green_infrastructure\"\n",
    ")"
   ]
  },
  {
   "cell_type": "code",
   "execution_count": 140,
   "id": "fed41b84",
   "metadata": {},
   "outputs": [
    {
     "name": "stdout",
     "output_type": "stream",
     "text": [
      "/Users/geribauer/duckdb-python-basics/data\n",
      "data-dictionary.xlsx      data-download.ipynb       green_infrastructure.csv\r\n"
     ]
    }
   ],
   "source": [
    "%cd data/\n",
    "\n",
    "%ls"
   ]
  },
  {
   "cell_type": "code",
   "execution_count": 141,
   "id": "ec888da3",
   "metadata": {},
   "outputs": [
    {
     "data": {
      "text/plain": [
       "┌──────────────────────┬──────────┬─────────┬────────────┬───┬────────────┬────────────────────┬─────────────┐\n",
       "│       the_geom       │ Asset_ID │  GI_ID  │ DEP_Contra │ … │ Construc_1 │     Program_Ar     │ Status_Gro  │\n",
       "│       varchar        │  int64   │ varchar │  varchar   │   │  varchar   │      varchar       │   varchar   │\n",
       "├──────────────────────┼──────────┼─────────┼────────────┼───┼────────────┼────────────────────┼─────────────┤\n",
       "│ POINT (-73.8116762…  │    94002 │ 1A      │ GQJA03-02  │ … │ Package-1  │ Right of Way (ROW) │ Constructed │\n",
       "│ POINT (-73.8122857…  │    94012 │ GS6A    │ GQJA03-02  │ … │ Package-1  │ Right of Way (ROW) │ Constructed │\n",
       "│ POINT (-73.8122344…  │    94017 │ GS8C    │ GQJA03-02  │ … │ Package-1  │ Right of Way (ROW) │ Constructed │\n",
       "│ POINT (-73.8120597…  │    94019 │ GS8E    │ GQJA03-02  │ … │ Package-1  │ Right of Way (ROW) │ Constructed │\n",
       "│ POINT (-73.8131019…  │    94021 │ 10A     │ GQJA03-02  │ … │ Package-1  │ Right of Way (ROW) │ Constructed │\n",
       "│ POINT (-73.8126597…  │    94031 │ 16A     │ GQJA03-02  │ … │ Package-1  │ Right of Way (ROW) │ Constructed │\n",
       "│ POINT (-73.8125273…  │    94033 │ 16C     │ GQJA03-02  │ … │ Package-1  │ Right of Way (ROW) │ Constructed │\n",
       "│ POINT (-73.8124855…  │    94034 │ 16D     │ GQJA03-02  │ … │ Package-1  │ Right of Way (ROW) │ Constructed │\n",
       "│ POINT (-73.8123016…  │    94036 │ GS18A   │ GQJA03-02  │ … │ Package-1  │ Right of Way (ROW) │ Constructed │\n",
       "│ POINT (-73.8130240…  │    94037 │ 19A     │ GQJA03-02  │ … │ Package-1  │ Right of Way (ROW) │ Constructed │\n",
       "├──────────────────────┴──────────┴─────────┴────────────┴───┴────────────┴────────────────────┴─────────────┤\n",
       "│ 10 rows                                                                               30 columns (7 shown) │\n",
       "└────────────────────────────────────────────────────────────────────────────────────────────────────────────┘"
      ]
     },
     "execution_count": 141,
     "metadata": {},
     "output_type": "execute_result"
    }
   ],
   "source": [
    "# reading in a CSV via the duckdb.sql() method\n",
    "duckdb.sql(\n",
    "    \"\"\"\n",
    "    SELECT *\n",
    "    FROM green_infrastructure.csv\n",
    "    LIMIT 10\n",
    "    \"\"\"\n",
    ")"
   ]
  },
  {
   "cell_type": "code",
   "execution_count": 142,
   "id": "0b7b736c",
   "metadata": {},
   "outputs": [
    {
     "name": "stdout",
     "output_type": "stream",
     "text": [
      "/Users/geribauer/duckdb-python-basics\n"
     ]
    }
   ],
   "source": [
    "# cd back to root directory and out of data/\n",
    "%cd ../"
   ]
  },
  {
   "cell_type": "markdown",
   "id": "137f66ea",
   "metadata": {},
   "source": [
    "# DataFrames"
   ]
  },
  {
   "cell_type": "code",
   "execution_count": 143,
   "id": "d80f96e3",
   "metadata": {},
   "outputs": [
    {
     "name": "stdout",
     "output_type": "stream",
     "text": [
      "README.md                   duckdb-python-sql.ipynb\r\n",
      "\u001b[34mdata\u001b[m\u001b[m/                       file.db\r\n",
      "duckdb-python-basics.ipynb\r\n"
     ]
    }
   ],
   "source": [
    "ls"
   ]
  },
  {
   "cell_type": "code",
   "execution_count": 144,
   "id": "0287b248",
   "metadata": {},
   "outputs": [
    {
     "data": {
      "text/plain": [
       "┌─────────┐\n",
       "│ numbers │\n",
       "│  int64  │\n",
       "├─────────┤\n",
       "│       1 │\n",
       "│       2 │\n",
       "│       3 │\n",
       "│       4 │\n",
       "└─────────┘"
      ]
     },
     "execution_count": 144,
     "metadata": {},
     "output_type": "execute_result"
    }
   ],
   "source": [
    "# pandas\n",
    "df = pd.DataFrame({\"numbers\": [1, 2, 3, 4]})\n",
    "\n",
    "duckdb.sql(\"SELECT * FROM df\")"
   ]
  },
  {
   "cell_type": "code",
   "execution_count": 145,
   "id": "27a20ed7",
   "metadata": {},
   "outputs": [
    {
     "data": {
      "text/plain": [
       "┌─────────┐\n",
       "│ numbers │\n",
       "│  int64  │\n",
       "├─────────┤\n",
       "│       1 │\n",
       "│       2 │\n",
       "│       3 │\n",
       "│       4 │\n",
       "└─────────┘"
      ]
     },
     "execution_count": 145,
     "metadata": {},
     "output_type": "execute_result"
    }
   ],
   "source": [
    "# polars\n",
    "df = pl.DataFrame({\"numbers\": [1, 2, 3, 4]})\n",
    "\n",
    "duckdb.sql(\"SELECT * FROM df\")"
   ]
  },
  {
   "cell_type": "code",
   "execution_count": 146,
   "id": "c37ccf2f",
   "metadata": {},
   "outputs": [
    {
     "data": {
      "text/plain": [
       "┌─────────┐\n",
       "│ numbers │\n",
       "│  int64  │\n",
       "├─────────┤\n",
       "│       1 │\n",
       "│       2 │\n",
       "│       3 │\n",
       "│       4 │\n",
       "└─────────┘"
      ]
     },
     "execution_count": 146,
     "metadata": {},
     "output_type": "execute_result"
    }
   ],
   "source": [
    "# pyarrow\n",
    "df = pa.Table.from_pydict({\"numbers\": [1, 2, 3, 4]})\n",
    "\n",
    "duckdb.sql(\"SELECT * FROM df\")"
   ]
  },
  {
   "cell_type": "markdown",
   "id": "17958ed3",
   "metadata": {},
   "source": [
    "# Result Conversion"
   ]
  },
  {
   "cell_type": "code",
   "execution_count": 147,
   "id": "7276322a",
   "metadata": {},
   "outputs": [
    {
     "name": "stdout",
     "output_type": "stream",
     "text": [
      "<class 'list'>\n",
      "<class 'dict'>\n",
      "<class 'pandas.core.frame.DataFrame'>\n",
      "<class 'polars.dataframe.frame.DataFrame'>\n",
      "<class 'pyarrow.lib.Table'>\n"
     ]
    }
   ],
   "source": [
    "# Python objects\n",
    "print(type(duckdb.sql(\"SELECT 1 as num\").fetchall()))\n",
    "\n",
    "# NumPy Arrays\n",
    "print(type(duckdb.sql(\"SELECT 1 as num\").fetchnumpy())) \n",
    "\n",
    "# Pandas DataFrame\n",
    "print(type(duckdb.sql(\"SELECT 1 as num\").df()))\n",
    "\n",
    "# Polars DataFrame\n",
    "print(type(duckdb.sql(\"SELECT 1 as num\").pl()))\n",
    "\n",
    "# Arrow Table\n",
    "print(type(duckdb.sql(\"SELECT 1 as num\").arrow()))"
   ]
  },
  {
   "cell_type": "code",
   "execution_count": 148,
   "id": "09876990",
   "metadata": {},
   "outputs": [
    {
     "data": {
      "text/html": [
       "<div>\n",
       "<style scoped>\n",
       "    .dataframe tbody tr th:only-of-type {\n",
       "        vertical-align: middle;\n",
       "    }\n",
       "\n",
       "    .dataframe tbody tr th {\n",
       "        vertical-align: top;\n",
       "    }\n",
       "\n",
       "    .dataframe thead th {\n",
       "        text-align: right;\n",
       "    }\n",
       "</style>\n",
       "<table border=\"1\" class=\"dataframe\">\n",
       "  <thead>\n",
       "    <tr style=\"text-align: right;\">\n",
       "      <th></th>\n",
       "      <th>num</th>\n",
       "    </tr>\n",
       "  </thead>\n",
       "  <tbody>\n",
       "    <tr>\n",
       "      <th>0</th>\n",
       "      <td>1</td>\n",
       "    </tr>\n",
       "  </tbody>\n",
       "</table>\n",
       "</div>"
      ],
      "text/plain": [
       "   num\n",
       "0    1"
      ]
     },
     "execution_count": 148,
     "metadata": {},
     "output_type": "execute_result"
    }
   ],
   "source": [
    "# Example: pandas DataFrame\n",
    "duckdb.sql(\"SELECT 1 as num\").df()"
   ]
  },
  {
   "cell_type": "markdown",
   "id": "2b5d1563",
   "metadata": {},
   "source": [
    "# Writing Data to Disk"
   ]
  },
  {
   "cell_type": "code",
   "execution_count": 149,
   "id": "e96114dc",
   "metadata": {},
   "outputs": [],
   "source": [
    "# Write to a Parquet file\n",
    "duckdb.sql(\"SELECT 42\").write_parquet(\"data/out.parquet\") \n",
    "\n",
    "# Write to a CSV file\n",
    "duckdb.sql(\"SELECT 42\").write_csv(\"data/out.csv\")   \n",
    "\n",
    "# Copy to a Parquet file\n",
    "duckdb.sql(\"COPY (SELECT 42) TO 'data/out.parquet'\")      "
   ]
  },
  {
   "cell_type": "code",
   "execution_count": 150,
   "id": "2cf98826",
   "metadata": {},
   "outputs": [
    {
     "name": "stdout",
     "output_type": "stream",
     "text": [
      "data-dictionary.xlsx      green_infrastructure.csv  out.parquet\r\n",
      "data-download.ipynb       out.csv\r\n"
     ]
    }
   ],
   "source": [
    "ls data/"
   ]
  },
  {
   "cell_type": "markdown",
   "id": "2c0f58f3",
   "metadata": {},
   "source": [
    "# Connection Options"
   ]
  },
  {
   "cell_type": "markdown",
   "id": "eade746e",
   "metadata": {},
   "source": [
    "## Using an In-Memory Database"
   ]
  },
  {
   "cell_type": "code",
   "execution_count": 151,
   "id": "cf649c71",
   "metadata": {},
   "outputs": [
    {
     "name": "stdout",
     "output_type": "stream",
     "text": [
      "┌───────┬─────────┐\n",
      "│  num  │ letter  │\n",
      "│ int32 │ varchar │\n",
      "├───────┼─────────┤\n",
      "│     1 │ a       │\n",
      "└───────┴─────────┘\n",
      "\n"
     ]
    }
   ],
   "source": [
    "con = duckdb.connect()\n",
    "\n",
    "(con\n",
    " .sql(\"SELECT 1 AS num, 'a' AS letter\")\n",
    " .show()\n",
    ")"
   ]
  },
  {
   "cell_type": "markdown",
   "id": "556988e8",
   "metadata": {},
   "source": [
    "A connection to a persistent database can be created using the `connect` function."
   ]
  },
  {
   "cell_type": "markdown",
   "id": "95fa83d3",
   "metadata": {},
   "source": [
    "## Persistent Storage"
   ]
  },
  {
   "cell_type": "code",
   "execution_count": 152,
   "id": "7595887f",
   "metadata": {},
   "outputs": [
    {
     "name": "stdout",
     "output_type": "stream",
     "text": [
      "┌───────┐\n",
      "│   i   │\n",
      "│ int32 │\n",
      "├───────┤\n",
      "│     1 │\n",
      "│     2 │\n",
      "└───────┘\n",
      "\n"
     ]
    }
   ],
   "source": [
    "con = duckdb.connect(\"data/file.db\")\n",
    "\n",
    "con.sql(\"CREATE TABLE IF NOT EXISTS integers (i INTEGER)\")\n",
    "con.sql(\"INSERT INTO integers VALUES (1), (2)\")\n",
    "\n",
    "con.sql(\"SELECT * FROM integers\").show()"
   ]
  },
  {
   "cell_type": "code",
   "execution_count": 153,
   "id": "46ca95dd",
   "metadata": {},
   "outputs": [
    {
     "name": "stdout",
     "output_type": "stream",
     "text": [
      "┌───────┐\n",
      "│   i   │\n",
      "│ int32 │\n",
      "├───────┤\n",
      "│     1 │\n",
      "│     2 │\n",
      "└───────┘\n",
      "\n"
     ]
    }
   ],
   "source": [
    "con = duckdb.connect(\"data/file.db\")\n",
    "\n",
    "con.sql(\"SELECT * FROM integers\").show()"
   ]
  },
  {
   "cell_type": "code",
   "execution_count": 154,
   "id": "7aa7493a",
   "metadata": {},
   "outputs": [
    {
     "name": "stdout",
     "output_type": "stream",
     "text": [
      "┌───────┐\n",
      "│   i   │\n",
      "│ int32 │\n",
      "├───────┤\n",
      "│     1 │\n",
      "│     2 │\n",
      "│     3 │\n",
      "└───────┘\n",
      "\n"
     ]
    }
   ],
   "source": [
    "# create a connection to a file called 'file.db'\n",
    "con = duckdb.connect(\"data/file.db\")\n",
    "\n",
    "con.sql(\"INSERT INTO integers VALUES (3)\")\n",
    "\n",
    "# query the table\n",
    "con.table(\"integers\").show()\n",
    "\n",
    "# explicitly close the connection\n",
    "con.close()\n",
    "# Note: connections also closed implicitly when they go out of scope"
   ]
  },
  {
   "cell_type": "code",
   "execution_count": 155,
   "id": "8321eaea",
   "metadata": {},
   "outputs": [
    {
     "name": "stdout",
     "output_type": "stream",
     "text": [
      "README.md                   duckdb-python-sql.ipynb\r\n",
      "\u001b[34mdata\u001b[m\u001b[m/                       file.db\r\n",
      "duckdb-python-basics.ipynb\r\n"
     ]
    }
   ],
   "source": [
    "ls"
   ]
  },
  {
   "cell_type": "code",
   "execution_count": 156,
   "id": "a7fae280",
   "metadata": {},
   "outputs": [
    {
     "name": "stdout",
     "output_type": "stream",
     "text": [
      "┌───────┐\n",
      "│   i   │\n",
      "│ int32 │\n",
      "├───────┤\n",
      "│     1 │\n",
      "│     2 │\n",
      "│     3 │\n",
      "│     4 │\n",
      "└───────┘\n",
      "\n"
     ]
    }
   ],
   "source": [
    "with duckdb.connect(\"data/file.db\") as con:\n",
    "    con.sql(\"INSERT INTO integers VALUES (4)\")\n",
    "    con.table(\"integers\").show()\n",
    "    # the context manager closes the connection automatically"
   ]
  },
  {
   "cell_type": "markdown",
   "id": "49dbd761",
   "metadata": {},
   "source": [
    "# Loading and Installing Extensions\n",
    "Overview of extensions: https://duckdb.org/docs/extensions/overview\n",
    "\n",
    "Note: I had to build this extension [from source](https://duckdb.org/docs/dev/building/overview.html), but make sure to thoroughly review DuckDB's extension guides."
   ]
  },
  {
   "cell_type": "code",
   "execution_count": 158,
   "id": "932f1030",
   "metadata": {},
   "outputs": [
    {
     "data": {
      "text/plain": [
       "┌──────────┬──────────────────────┬──────────────────────┬───┬──────────────┬──────────────────────┬─────────────┐\n",
       "│ VendorID │ tpep_pickup_datetime │ tpep_dropoff_datet…  │ … │ total_amount │ congestion_surcharge │ Airport_fee │\n",
       "│  int32   │      timestamp       │      timestamp       │   │    double    │        double        │   double    │\n",
       "├──────────┼──────────────────────┼──────────────────────┼───┼──────────────┼──────────────────────┼─────────────┤\n",
       "│        2 │ 2024-01-01 00:57:55  │ 2024-01-01 01:17:43  │ … │         22.7 │                  2.5 │         0.0 │\n",
       "│        1 │ 2024-01-01 00:03:00  │ 2024-01-01 00:09:36  │ … │        18.75 │                  2.5 │         0.0 │\n",
       "│        1 │ 2024-01-01 00:17:06  │ 2024-01-01 00:35:01  │ … │         31.3 │                  2.5 │         0.0 │\n",
       "│        1 │ 2024-01-01 00:36:38  │ 2024-01-01 00:44:56  │ … │         17.0 │                  2.5 │         0.0 │\n",
       "│        1 │ 2024-01-01 00:46:51  │ 2024-01-01 00:52:57  │ … │         16.1 │                  2.5 │         0.0 │\n",
       "│        1 │ 2024-01-01 00:54:08  │ 2024-01-01 01:26:31  │ … │         41.5 │                  2.5 │         0.0 │\n",
       "│        2 │ 2024-01-01 00:49:44  │ 2024-01-01 01:15:47  │ … │        64.95 │                  0.0 │        1.75 │\n",
       "│        1 │ 2024-01-01 00:30:40  │ 2024-01-01 00:58:40  │ … │         30.4 │                  2.5 │         0.0 │\n",
       "│        2 │ 2024-01-01 00:26:01  │ 2024-01-01 00:54:12  │ … │         36.0 │                  2.5 │         0.0 │\n",
       "│        2 │ 2024-01-01 00:28:08  │ 2024-01-01 00:29:16  │ … │          8.0 │                  2.5 │         0.0 │\n",
       "├──────────┴──────────────────────┴──────────────────────┴───┴──────────────┴──────────────────────┴─────────────┤\n",
       "│ 10 rows                                                                                   19 columns (6 shown) │\n",
       "└────────────────────────────────────────────────────────────────────────────────────────────────────────────────┘"
      ]
     },
     "execution_count": 158,
     "metadata": {},
     "output_type": "execute_result"
    }
   ],
   "source": [
    "con = duckdb.connect(config={\"allow_unsigned_extensions\": \"true\"})\n",
    "path = \"../duckdb/build/release/repository/v0.10.0/osx_amd64/httpfs.duckdb_extension\"\n",
    "\n",
    "con.install_extension(path)\n",
    "con.load_extension(path)\n",
    "\n",
    "# nyc taxi data\n",
    "con.sql(\n",
    "    \"\"\"\n",
    "    SELECT *\n",
    "    FROM 'https://d37ci6vzurychx.cloudfront.net/trip-data/yellow_tripdata_2024-01.parquet'\n",
    "    LIMIT 10\n",
    "    \"\"\"\n",
    ")"
   ]
  },
  {
   "cell_type": "code",
   "execution_count": null,
   "id": "c4aab97f",
   "metadata": {},
   "outputs": [],
   "source": []
  }
 ],
 "metadata": {
  "kernelspec": {
   "display_name": "Python 3 (ipykernel)",
   "language": "python",
   "name": "python3"
  },
  "language_info": {
   "codemirror_mode": {
    "name": "ipython",
    "version": 3
   },
   "file_extension": ".py",
   "mimetype": "text/x-python",
   "name": "python",
   "nbconvert_exporter": "python",
   "pygments_lexer": "ipython3",
   "version": "3.8.13"
  }
 },
 "nbformat": 4,
 "nbformat_minor": 5
}
