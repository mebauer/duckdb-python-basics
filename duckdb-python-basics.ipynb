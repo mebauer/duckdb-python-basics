{
 "cells": [
  {
   "cell_type": "markdown",
   "id": "0426c49f",
   "metadata": {},
   "source": [
    "# DuckDB Python Client Basics"
   ]
  },
  {
   "cell_type": "code",
   "execution_count": 1,
   "id": "ea8b1c86",
   "metadata": {},
   "outputs": [
    {
     "data": {
      "text/plain": [
       "'0.10.0'"
      ]
     },
     "execution_count": 1,
     "metadata": {},
     "output_type": "execute_result"
    }
   ],
   "source": [
    "import duckdb\n",
    "import pandas as pd\n",
    "import numpy as np\n",
    "import polars as pl\n",
    "import pyarrow as pa\n",
    "import os.path\n",
    "\n",
    "duckdb.__version__"
   ]
  },
  {
   "cell_type": "markdown",
   "id": "ba0d656e",
   "metadata": {},
   "source": [
    "# Basic Python API Usage"
   ]
  },
  {
   "cell_type": "code",
   "execution_count": 2,
   "id": "aea81e2e",
   "metadata": {},
   "outputs": [
    {
     "name": "stdout",
     "output_type": "stream",
     "text": [
      "┌───────┐\n",
      "│  42   │\n",
      "│ int32 │\n",
      "├───────┤\n",
      "│    42 │\n",
      "└───────┘\n",
      "\n"
     ]
    }
   ],
   "source": [
    "duckdb.sql(\"SELECT 42\").show()"
   ]
  },
  {
   "cell_type": "code",
   "execution_count": 3,
   "id": "c68e7c41",
   "metadata": {},
   "outputs": [
    {
     "name": "stdout",
     "output_type": "stream",
     "text": [
      "┌───────┐\n",
      "│   k   │\n",
      "│ int32 │\n",
      "├───────┤\n",
      "│    84 │\n",
      "└───────┘\n",
      "\n"
     ]
    }
   ],
   "source": [
    "relation = duckdb.sql(\n",
    "    \"SELECT 42 AS i\"\n",
    ")\n",
    "\n",
    "(duckdb\n",
    " .sql(\"SELECT i * 2 AS k FROM relation\")\n",
    " .show()\n",
    ")"
   ]
  },
  {
   "cell_type": "markdown",
   "id": "9bfe67af",
   "metadata": {},
   "source": [
    "# Data Input"
   ]
  },
  {
   "cell_type": "code",
   "execution_count": 4,
   "id": "d9e37ac0",
   "metadata": {},
   "outputs": [
    {
     "name": "stdout",
     "output_type": "stream",
     "text": [
      "Historic_Districts_20240426.csv  duckdb-python-basics.ipynb\r\n",
      "\u001b[34mdata\u001b[m\u001b[m/                            duckdb-python-sql.ipynb\r\n"
     ]
    }
   ],
   "source": [
    "ls"
   ]
  },
  {
   "cell_type": "code",
   "execution_count": 5,
   "id": "eb9658fa",
   "metadata": {},
   "outputs": [
    {
     "data": {
      "text/plain": [
       "┌──────────────────────┬─────────┬───────────┬──────────┬───┬────────────┬────────────┬───────────────┬───────────────┐\n",
       "│       the_geom       │ BOROUGH │ LP_NUMBER │ CURRENT_ │ … │  DESDATE   │  CALDATE   │  Shape_Leng   │  Shape_Area   │\n",
       "│       varchar        │ varchar │  varchar  │ varchar  │   │    date    │    date    │    double     │    double     │\n",
       "├──────────────────────┼─────────┼───────────┼──────────┼───┼────────────┼────────────┼───────────────┼───────────────┤\n",
       "│ MULTIPOLYGON (((-7…  │ QN      │ LP-02040  │ Yes      │ … │ 1999-06-29 │ 1999-04-13 │ 11203.1997224 │ 4067523.25047 │\n",
       "│ MULTIPOLYGON (((-7…  │ MN      │ LP-01985  │ Yes      │ … │ 1998-05-05 │ NULL       │ 410.860306645 │ 10652.4239136 │\n",
       "│ MULTIPOLYGON (((-7…  │ MN      │ LP-01901  │ Yes      │ … │ 1993-02-25 │ NULL       │ 4995.47146205 │ 1069203.49477 │\n",
       "│ MULTIPOLYGON (((-7…  │ BK      │ LP-00989  │ Yes      │ … │ 1978-07-11 │ NULL       │ 1240.77043794 │  78546.856215 │\n",
       "│ MULTIPOLYGON (((-7…  │ BK      │ LP-02567  │ Yes      │ … │ 2014-12-16 │ 2014-10-28 │ 803.900855111 │ 38403.0706762 │\n",
       "│ MULTIPOLYGON (((-7…  │ MN      │ LP-01001  │ Yes      │ … │ 1979-01-09 │ NULL       │ 1561.95390204 │  129586.91787 │\n",
       "│ MULTIPOLYGON (((-7…  │ BK      │ LP-00695  │ Yes      │ … │ 1971-09-14 │ NULL       │ 9926.92451127 │ 1532125.98375 │\n",
       "│ MULTIPOLYGON (((-7…  │ BX      │ LP-01900  │ Yes      │ … │ 1994-04-05 │ NULL       │ 1238.63158586 │  73705.861983 │\n",
       "│ MULTIPOLYGON (((-7…  │ BK      │ LP-00767  │ Yes      │ … │ 1973-11-20 │ NULL       │ 4758.60795104 │  829301.52483 │\n",
       "│ MULTIPOLYGON (((-7…  │ BK      │ LP-01003  │ Yes      │ … │ 1978-09-26 │ NULL       │ 3339.52740879 │ 376906.824949 │\n",
       "│          ·           │ ·       │    ·      │  ·       │ · │     ·      │  ·         │       ·       │       ·       │\n",
       "│          ·           │ ·       │    ·      │  ·       │ · │     ·      │  ·         │       ·       │       ·       │\n",
       "│          ·           │ ·       │    ·      │  ·       │ · │     ·      │  ·         │       ·       │       ·       │\n",
       "│ MULTIPOLYGON (((-7…  │ BK      │ LP-02625  │ Yes      │ … │ 2019-06-18 │ 2019-01-22 │ 2952.51337338 │ 156791.085049 │\n",
       "│ MULTIPOLYGON (((-7…  │ BK      │ LP-02622  │ Yes      │ … │ 2019-06-18 │ 2019-01-22 │ 5050.77901459 │ 735923.054325 │\n",
       "│ MULTIPOLYGON (((-7…  │ BK      │ LP-02631  │ Yes      │ … │ 2019-06-25 │ 2019-03-26 │  1804.0186059 │ 149114.927036 │\n",
       "│ MULTIPOLYGON (((-7…  │ BX      │ LP-02644  │ Yes      │ … │ 2020-06-23 │ 2020-01-21 │ 1716.57733279 │ 134393.382218 │\n",
       "│ MULTIPOLYGON (((-7…  │ BK      │ LP-02647  │ Yes      │ … │ 2020-11-17 │ 2020-08-11 │ 1640.03952259 │ 145583.406819 │\n",
       "│ MULTIPOLYGON (((-7…  │ MN      │ LP-02651  │ Yes      │ … │ 2021-06-15 │ 2021-02-02 │ 5974.54327823 │  795314.78528 │\n",
       "│ MULTIPOLYGON (((-7…  │ QN      │ LP-02656  │ Yes      │ … │ 2022-06-28 │ 2021-08-10 │ 1538.09304563 │ 132133.631361 │\n",
       "│ MULTIPOLYGON (((-7…  │ QN      │ LP-02655  │ Yes      │ … │ 2022-06-28 │ 2021-08-10 │ 1511.19729265 │ 128135.777725 │\n",
       "│ MULTIPOLYGON (((-7…  │ BK      │ LP-02664  │ Yes      │ … │ 2022-12-13 │ 2022-08-09 │ 1671.88284032 │ 107249.921115 │\n",
       "│ MULTIPOLYGON (((-7…  │ BK      │ LP-2665   │ Yes      │ … │ 2023-05-09 │ 2022-11-01 │ 1408.26246352 │ 70102.8549464 │\n",
       "├──────────────────────┴─────────┴───────────┴──────────┴───┴────────────┴────────────┴───────────────┴───────────────┤\n",
       "│ 156 rows (20 shown)                                                                            15 columns (8 shown) │\n",
       "└─────────────────────────────────────────────────────────────────────────────────────────────────────────────────────┘"
      ]
     },
     "execution_count": 5,
     "metadata": {},
     "output_type": "execute_result"
    }
   ],
   "source": [
    "# duckdb.read_csv()\n",
    "path = \"Historic_Districts_20240426.csv\"\n",
    "duckdb.read_csv(path, date_format= \"%m/%d/%Y\")"
   ]
  },
  {
   "cell_type": "markdown",
   "id": "be4e9158",
   "metadata": {},
   "source": [
    "My preferred method - `duckdb.sql()`"
   ]
  },
  {
   "cell_type": "code",
   "execution_count": 6,
   "id": "ec888da3",
   "metadata": {},
   "outputs": [
    {
     "data": {
      "text/plain": [
       "┌──────────────────────┬─────────┬───────────┬──────────┬───┬────────────┬────────────┬───────────────┬───────────────┐\n",
       "│       the_geom       │ BOROUGH │ LP_NUMBER │ CURRENT_ │ … │  DESDATE   │  CALDATE   │  Shape_Leng   │  Shape_Area   │\n",
       "│       varchar        │ varchar │  varchar  │ varchar  │   │    date    │    date    │    double     │    double     │\n",
       "├──────────────────────┼─────────┼───────────┼──────────┼───┼────────────┼────────────┼───────────────┼───────────────┤\n",
       "│ MULTIPOLYGON (((-7…  │ QN      │ LP-02040  │ Yes      │ … │ 1999-06-29 │ 1999-04-13 │ 11203.1997224 │ 4067523.25047 │\n",
       "│ MULTIPOLYGON (((-7…  │ MN      │ LP-01985  │ Yes      │ … │ 1998-05-05 │ NULL       │ 410.860306645 │ 10652.4239136 │\n",
       "│ MULTIPOLYGON (((-7…  │ MN      │ LP-01901  │ Yes      │ … │ 1993-02-25 │ NULL       │ 4995.47146205 │ 1069203.49477 │\n",
       "│ MULTIPOLYGON (((-7…  │ BK      │ LP-00989  │ Yes      │ … │ 1978-07-11 │ NULL       │ 1240.77043794 │  78546.856215 │\n",
       "│ MULTIPOLYGON (((-7…  │ BK      │ LP-02567  │ Yes      │ … │ 2014-12-16 │ 2014-10-28 │ 803.900855111 │ 38403.0706762 │\n",
       "│ MULTIPOLYGON (((-7…  │ MN      │ LP-01001  │ Yes      │ … │ 1979-01-09 │ NULL       │ 1561.95390204 │  129586.91787 │\n",
       "│ MULTIPOLYGON (((-7…  │ BK      │ LP-00695  │ Yes      │ … │ 1971-09-14 │ NULL       │ 9926.92451127 │ 1532125.98375 │\n",
       "│ MULTIPOLYGON (((-7…  │ BX      │ LP-01900  │ Yes      │ … │ 1994-04-05 │ NULL       │ 1238.63158586 │  73705.861983 │\n",
       "│ MULTIPOLYGON (((-7…  │ BK      │ LP-00767  │ Yes      │ … │ 1973-11-20 │ NULL       │ 4758.60795104 │  829301.52483 │\n",
       "│ MULTIPOLYGON (((-7…  │ BK      │ LP-01003  │ Yes      │ … │ 1978-09-26 │ NULL       │ 3339.52740879 │ 376906.824949 │\n",
       "├──────────────────────┴─────────┴───────────┴──────────┴───┴────────────┴────────────┴───────────────┴───────────────┤\n",
       "│ 10 rows                                                                                        15 columns (8 shown) │\n",
       "└─────────────────────────────────────────────────────────────────────────────────────────────────────────────────────┘"
      ]
     },
     "execution_count": 6,
     "metadata": {},
     "output_type": "execute_result"
    }
   ],
   "source": [
    "# duckdb.sql(SELECT)\n",
    "duckdb.sql(\n",
    "    \"\"\"\n",
    "    SELECT *\n",
    "    FROM Historic_Districts_20240426.csv\n",
    "    LIMIT 10\n",
    "    \"\"\"\n",
    ")"
   ]
  },
  {
   "cell_type": "markdown",
   "id": "137f66ea",
   "metadata": {},
   "source": [
    "# DataFrames"
   ]
  },
  {
   "cell_type": "code",
   "execution_count": 7,
   "id": "d80f96e3",
   "metadata": {},
   "outputs": [
    {
     "name": "stdout",
     "output_type": "stream",
     "text": [
      "Historic_Districts_20240426.csv  duckdb-python-basics.ipynb\r\n",
      "\u001b[34mdata\u001b[m\u001b[m/                            duckdb-python-sql.ipynb\r\n"
     ]
    }
   ],
   "source": [
    "ls"
   ]
  },
  {
   "cell_type": "code",
   "execution_count": 8,
   "id": "0287b248",
   "metadata": {},
   "outputs": [
    {
     "data": {
      "text/plain": [
       "┌───────┐\n",
       "│   a   │\n",
       "│ int64 │\n",
       "├───────┤\n",
       "│    42 │\n",
       "└───────┘"
      ]
     },
     "execution_count": 8,
     "metadata": {},
     "output_type": "execute_result"
    }
   ],
   "source": [
    "# pandas\n",
    "df = pd.DataFrame({\"a\": [42]})\n",
    "\n",
    "duckdb.sql(\"SELECT * FROM df\")"
   ]
  },
  {
   "cell_type": "code",
   "execution_count": 9,
   "id": "27a20ed7",
   "metadata": {},
   "outputs": [
    {
     "data": {
      "text/plain": [
       "┌───────┐\n",
       "│   a   │\n",
       "│ int64 │\n",
       "├───────┤\n",
       "│    42 │\n",
       "└───────┘"
      ]
     },
     "execution_count": 9,
     "metadata": {},
     "output_type": "execute_result"
    }
   ],
   "source": [
    "# polars\n",
    "df = pl.DataFrame({\"a\": [42]})\n",
    "\n",
    "duckdb.sql(\"SELECT * FROM df\")"
   ]
  },
  {
   "cell_type": "code",
   "execution_count": 10,
   "id": "c37ccf2f",
   "metadata": {},
   "outputs": [
    {
     "data": {
      "text/plain": [
       "┌───────┐\n",
       "│   a   │\n",
       "│ int64 │\n",
       "├───────┤\n",
       "│    42 │\n",
       "└───────┘"
      ]
     },
     "execution_count": 10,
     "metadata": {},
     "output_type": "execute_result"
    }
   ],
   "source": [
    "# pyarrow\n",
    "df = pa.Table.from_pydict({\"a\": [42]})\n",
    "\n",
    "duckdb.sql(\"SELECT * FROM df\")"
   ]
  },
  {
   "cell_type": "markdown",
   "id": "17958ed3",
   "metadata": {},
   "source": [
    "# Result Conversion"
   ]
  },
  {
   "cell_type": "code",
   "execution_count": 11,
   "id": "7276322a",
   "metadata": {},
   "outputs": [
    {
     "name": "stdout",
     "output_type": "stream",
     "text": [
      "<class 'list'>\n",
      "<class 'dict'>\n",
      "<class 'pandas.core.frame.DataFrame'>\n",
      "<class 'polars.dataframe.frame.DataFrame'>\n",
      "<class 'pyarrow.lib.Table'>\n"
     ]
    }
   ],
   "source": [
    "# Python objects\n",
    "print(type(duckdb.sql(\"SELECT 42\").fetchall()))\n",
    "\n",
    "# NumPy Arrays\n",
    "print(type(duckdb.sql(\"SELECT 42\").fetchnumpy())) \n",
    "\n",
    "# Pandas DataFrame\n",
    "print(type(duckdb.sql(\"SELECT 42\").df()))\n",
    "\n",
    "# Polars DataFrame\n",
    "print(type(duckdb.sql(\"SELECT 42\").pl()))\n",
    "\n",
    "# Arrow Table\n",
    "print(type(duckdb.sql(\"SELECT 42\").arrow()))"
   ]
  },
  {
   "cell_type": "code",
   "execution_count": 12,
   "id": "09876990",
   "metadata": {},
   "outputs": [
    {
     "data": {
      "text/html": [
       "<div>\n",
       "<style scoped>\n",
       "    .dataframe tbody tr th:only-of-type {\n",
       "        vertical-align: middle;\n",
       "    }\n",
       "\n",
       "    .dataframe tbody tr th {\n",
       "        vertical-align: top;\n",
       "    }\n",
       "\n",
       "    .dataframe thead th {\n",
       "        text-align: right;\n",
       "    }\n",
       "</style>\n",
       "<table border=\"1\" class=\"dataframe\">\n",
       "  <thead>\n",
       "    <tr style=\"text-align: right;\">\n",
       "      <th></th>\n",
       "      <th>x</th>\n",
       "    </tr>\n",
       "  </thead>\n",
       "  <tbody>\n",
       "    <tr>\n",
       "      <th>0</th>\n",
       "      <td>42</td>\n",
       "    </tr>\n",
       "  </tbody>\n",
       "</table>\n",
       "</div>"
      ],
      "text/plain": [
       "    x\n",
       "0  42"
      ]
     },
     "execution_count": 12,
     "metadata": {},
     "output_type": "execute_result"
    }
   ],
   "source": [
    "# Example: pandas DataFrame\n",
    "duckdb.sql(\"SELECT 42 AS x\").df()"
   ]
  },
  {
   "cell_type": "markdown",
   "id": "2b5d1563",
   "metadata": {},
   "source": [
    "# Writing Data to Disk"
   ]
  },
  {
   "cell_type": "code",
   "execution_count": 13,
   "id": "e96114dc",
   "metadata": {},
   "outputs": [],
   "source": [
    "# Write to a Parquet file\n",
    "duckdb.sql(\"SELECT 42\").write_parquet(\"data/out.parquet\") \n",
    "\n",
    "# Write to a CSV file\n",
    "duckdb.sql(\"SELECT 42\").write_csv(\"data/out.csv\")   \n",
    "\n",
    "# Copy to a Parquet file\n",
    "duckdb.sql(\"COPY (SELECT 42) TO 'data/out.parquet'\")      "
   ]
  },
  {
   "cell_type": "code",
   "execution_count": 21,
   "id": "2cf98826",
   "metadata": {},
   "outputs": [
    {
     "name": "stdout",
     "output_type": "stream",
     "text": [
      "out.csv      out.parquet\r\n"
     ]
    }
   ],
   "source": [
    "ls data/"
   ]
  },
  {
   "cell_type": "markdown",
   "id": "2c0f58f3",
   "metadata": {},
   "source": [
    "# Connection Options"
   ]
  },
  {
   "cell_type": "markdown",
   "id": "eade746e",
   "metadata": {},
   "source": [
    "## Using an In-Memory Database"
   ]
  },
  {
   "cell_type": "code",
   "execution_count": 15,
   "id": "cf649c71",
   "metadata": {},
   "outputs": [
    {
     "name": "stdout",
     "output_type": "stream",
     "text": [
      "┌───────┐\n",
      "│   x   │\n",
      "│ int32 │\n",
      "├───────┤\n",
      "│    42 │\n",
      "└───────┘\n",
      "\n"
     ]
    }
   ],
   "source": [
    "con = duckdb.connect()\n",
    "\n",
    "(con\n",
    " .sql(\"SELECT 42 AS x\")\n",
    " .show()\n",
    ")"
   ]
  },
  {
   "cell_type": "markdown",
   "id": "556988e8",
   "metadata": {},
   "source": [
    "A connection to a persistent database can be created using the `connect` function."
   ]
  },
  {
   "cell_type": "markdown",
   "id": "95fa83d3",
   "metadata": {},
   "source": [
    "## Persistent Storage"
   ]
  },
  {
   "cell_type": "code",
   "execution_count": 16,
   "id": "7595887f",
   "metadata": {},
   "outputs": [
    {
     "name": "stdout",
     "output_type": "stream",
     "text": [
      "┌───────┐\n",
      "│   i   │\n",
      "│ int32 │\n",
      "├───────┤\n",
      "│    42 │\n",
      "└───────┘\n",
      "\n"
     ]
    }
   ],
   "source": [
    "con = duckdb.connect(\"file.db\")\n",
    "\n",
    "con.sql(\"CREATE TABLE IF NOT EXISTS integers (i INTEGER)\")\n",
    "con.sql(\"INSERT INTO integers VALUES (42)\")\n",
    "\n",
    "con.sql(\"SELECT * FROM integers\").show()"
   ]
  },
  {
   "cell_type": "code",
   "execution_count": 17,
   "id": "46ca95dd",
   "metadata": {},
   "outputs": [
    {
     "name": "stdout",
     "output_type": "stream",
     "text": [
      "┌───────┐\n",
      "│   i   │\n",
      "│ int32 │\n",
      "├───────┤\n",
      "│    42 │\n",
      "└───────┘\n",
      "\n"
     ]
    }
   ],
   "source": [
    "con = duckdb.connect(\"file.db\")\n",
    "\n",
    "con.sql(\"SELECT * FROM integers\").show()"
   ]
  },
  {
   "cell_type": "code",
   "execution_count": 18,
   "id": "7aa7493a",
   "metadata": {},
   "outputs": [
    {
     "name": "stdout",
     "output_type": "stream",
     "text": [
      "┌───────┐\n",
      "│   i   │\n",
      "│ int32 │\n",
      "├───────┤\n",
      "│    42 │\n",
      "│    24 │\n",
      "└───────┘\n",
      "\n"
     ]
    }
   ],
   "source": [
    "# create a connection to a file called 'file.db'\n",
    "con = duckdb.connect(\"file.db\")\n",
    "\n",
    "con.sql(\"INSERT INTO integers VALUES (24)\")\n",
    "\n",
    "# query the table\n",
    "con.table(\"integers\").show()\n",
    "\n",
    "# explicitly close the connection\n",
    "con.close()\n",
    "# Note: connections also closed implicitly when they go out of scope"
   ]
  },
  {
   "cell_type": "code",
   "execution_count": 19,
   "id": "8321eaea",
   "metadata": {},
   "outputs": [
    {
     "name": "stdout",
     "output_type": "stream",
     "text": [
      "Historic_Districts_20240426.csv  duckdb-python-sql.ipynb\r\n",
      "\u001b[34mdata\u001b[m\u001b[m/                            file.db\r\n",
      "duckdb-python-basics.ipynb\r\n"
     ]
    }
   ],
   "source": [
    "ls"
   ]
  },
  {
   "cell_type": "code",
   "execution_count": 20,
   "id": "a7fae280",
   "metadata": {},
   "outputs": [
    {
     "name": "stdout",
     "output_type": "stream",
     "text": [
      "┌───────┐\n",
      "│   i   │\n",
      "│ int32 │\n",
      "├───────┤\n",
      "│    42 │\n",
      "│    24 │\n",
      "│    42 │\n",
      "└───────┘\n",
      "\n"
     ]
    }
   ],
   "source": [
    "with duckdb.connect(\"file.db\") as con:\n",
    "    con.sql(\"INSERT INTO integers VALUES (42)\")\n",
    "    con.table(\"integers\").show()\n",
    "    # the context manager closes the connection automatically"
   ]
  },
  {
   "cell_type": "code",
   "execution_count": null,
   "id": "34c569a7",
   "metadata": {},
   "outputs": [],
   "source": []
  }
 ],
 "metadata": {
  "kernelspec": {
   "display_name": "Python 3 (ipykernel)",
   "language": "python",
   "name": "python3"
  },
  "language_info": {
   "codemirror_mode": {
    "name": "ipython",
    "version": 3
   },
   "file_extension": ".py",
   "mimetype": "text/x-python",
   "name": "python",
   "nbconvert_exporter": "python",
   "pygments_lexer": "ipython3",
   "version": "3.8.13"
  }
 },
 "nbformat": 4,
 "nbformat_minor": 5
}
