{
 "cells": [
  {
   "cell_type": "markdown",
   "id": "0426c49f",
   "metadata": {},
   "source": [
    "# DuckDB Python Client Basics\n",
    "Author: Mark Bauer"
   ]
  },
  {
   "cell_type": "markdown",
   "id": "7c460034",
   "metadata": {},
   "source": [
    "This guide is based on the DuckDB documentation here: https://duckdb.org/docs/api/python/overview.  \n",
    "\n",
    "To install the DuckdDB Python API, refer to the docs above."
   ]
  },
  {
   "cell_type": "code",
   "execution_count": 1,
   "id": "ea8b1c86",
   "metadata": {
    "scrolled": true
   },
   "outputs": [
    {
     "name": "stdout",
     "output_type": "stream",
     "text": [
      "duckdb version: 0.10.0\n"
     ]
    }
   ],
   "source": [
    "import duckdb\n",
    "import pandas as pd\n",
    "import numpy as np\n",
    "import polars as pl\n",
    "import pyarrow as pa\n",
    "import os.path\n",
    "\n",
    "print(\"duckdb version: {}\".format(duckdb.__version__))"
   ]
  },
  {
   "cell_type": "markdown",
   "id": "bd1ad04d",
   "metadata": {},
   "source": [
    "# Table of Contents\n",
    "1. Basic Python API Usage\n",
    "2. Data Input\n",
    "3. DataFrames\n",
    "4. Result Conversion\n",
    "5. Writing Data to Disk\n",
    "6. Connection Options  \n",
    "    - 6.1 Using an In-Memory Database  \n",
    "    - 6.2 Persistent Storage\n",
    "7. Loading and Installing Extensions   \n",
    "8. Jupyter Notebooks and Querying Pandas Dataframes"
   ]
  },
  {
   "cell_type": "markdown",
   "id": "ba0d656e",
   "metadata": {},
   "source": [
    "# 1. Basic Python API Usage"
   ]
  },
  {
   "cell_type": "code",
   "execution_count": 2,
   "id": "aea81e2e",
   "metadata": {},
   "outputs": [
    {
     "data": {
      "text/plain": [
       "┌───────┬──────────────┬─────────┬─────────┐\n",
       "│   1   │     2.0      │   'a'   │ 'TRUE'  │\n",
       "│ int32 │ decimal(2,1) │ varchar │ varchar │\n",
       "├───────┼──────────────┼─────────┼─────────┤\n",
       "│     1 │          2.0 │ a       │ TRUE    │\n",
       "└───────┴──────────────┴─────────┴─────────┘"
      ]
     },
     "execution_count": 2,
     "metadata": {},
     "output_type": "execute_result"
    }
   ],
   "source": [
    "duckdb.sql(\"SELECT 1, 2.0, 'a', 'TRUE'\")"
   ]
  },
  {
   "cell_type": "code",
   "execution_count": 3,
   "id": "3688ea4b",
   "metadata": {},
   "outputs": [
    {
     "data": {
      "text/plain": [
       "duckdb.duckdb.DuckDBPyRelation"
      ]
     },
     "execution_count": 3,
     "metadata": {},
     "output_type": "execute_result"
    }
   ],
   "source": [
    "type(duckdb.sql(\"SELECT 1, 2.0, 'a', 'TRUE'\"))"
   ]
  },
  {
   "cell_type": "code",
   "execution_count": 4,
   "id": "dfd46552",
   "metadata": {},
   "outputs": [
    {
     "name": "stdout",
     "output_type": "stream",
     "text": [
      "┌───────┬──────────────┬─────────┬─────────┐\n",
      "│   1   │     2.0      │   'a'   │ 'TRUE'  │\n",
      "│ int32 │ decimal(2,1) │ varchar │ varchar │\n",
      "├───────┼──────────────┼─────────┼─────────┤\n",
      "│     1 │          2.0 │ a       │ TRUE    │\n",
      "└───────┴──────────────┴─────────┴─────────┘\n",
      "\n"
     ]
    }
   ],
   "source": [
    "# you can also use .show() to preview the relation\n",
    "duckdb.sql(\"SELECT 1, 2.0, 'a', 'TRUE'\").show()"
   ]
  },
  {
   "cell_type": "code",
   "execution_count": 5,
   "id": "c68e7c41",
   "metadata": {},
   "outputs": [
    {
     "name": "stdout",
     "output_type": "stream",
     "text": [
      "┌───────┐\n",
      "│   k   │\n",
      "│ int32 │\n",
      "├───────┤\n",
      "│    20 │\n",
      "└───────┘\n",
      "\n"
     ]
    }
   ],
   "source": [
    "# assign relation\n",
    "relation = duckdb.sql(\"SELECT 10 AS i\")\n",
    "\n",
    "# query relation\n",
    "(duckdb\n",
    " .sql(\"SELECT i * 2 AS k FROM relation\")\n",
    " .show()\n",
    ")"
   ]
  },
  {
   "cell_type": "markdown",
   "id": "9bfe67af",
   "metadata": {},
   "source": [
    "# 2. Data Input\n",
    "We will focus on reading CSVs for now. Below are various ways to read in CSV files."
   ]
  },
  {
   "cell_type": "code",
   "execution_count": 6,
   "id": "eb9658fa",
   "metadata": {},
   "outputs": [
    {
     "data": {
      "text/plain": [
       "┌──────────────────────┬──────────┬───────────┬────────────┬───┬────────────┬────────────────────┬─────────────────┐\n",
       "│       the_geom       │ Asset_ID │   GI_ID   │ DEP_Contra │ … │ Construc_1 │     Program_Ar     │   Status_Gro    │\n",
       "│       varchar        │  int64   │  varchar  │  varchar   │   │  varchar   │      varchar       │     varchar     │\n",
       "├──────────────────────┼──────────┼───────────┼────────────┼───┼────────────┼────────────────────┼─────────────────┤\n",
       "│ POINT (-73.8116762…  │    94002 │ 1A        │ GQJA03-02  │ … │ Package-1  │ Right of Way (ROW) │ Constructed     │\n",
       "│ POINT (-73.8122857…  │    94012 │ GS6A      │ GQJA03-02  │ … │ Package-1  │ Right of Way (ROW) │ Constructed     │\n",
       "│ POINT (-73.8122344…  │    94017 │ GS8C      │ GQJA03-02  │ … │ Package-1  │ Right of Way (ROW) │ Constructed     │\n",
       "│ POINT (-73.8120597…  │    94019 │ GS8E      │ GQJA03-02  │ … │ Package-1  │ Right of Way (ROW) │ Constructed     │\n",
       "│ POINT (-73.8131019…  │    94021 │ 10A       │ GQJA03-02  │ … │ Package-1  │ Right of Way (ROW) │ Constructed     │\n",
       "│ POINT (-73.8126597…  │    94031 │ 16A       │ GQJA03-02  │ … │ Package-1  │ Right of Way (ROW) │ Constructed     │\n",
       "│ POINT (-73.8125273…  │    94033 │ 16C       │ GQJA03-02  │ … │ Package-1  │ Right of Way (ROW) │ Constructed     │\n",
       "│ POINT (-73.8124855…  │    94034 │ 16D       │ GQJA03-02  │ … │ Package-1  │ Right of Way (ROW) │ Constructed     │\n",
       "│ POINT (-73.8123016…  │    94036 │ GS18A     │ GQJA03-02  │ … │ Package-1  │ Right of Way (ROW) │ Constructed     │\n",
       "│ POINT (-73.8130240…  │    94037 │ 19A       │ GQJA03-02  │ … │ Package-1  │ Right of Way (ROW) │ Constructed     │\n",
       "│          ·           │      ·   │  ·        │     ·      │ · │     ·      │         ·          │      ·          │\n",
       "│          ·           │      ·   │  ·        │     ·      │ · │     ·      │         ·          │      ·          │\n",
       "│          ·           │      ·   │  ·        │     ·      │ · │     ·      │         ·          │      ·          │\n",
       "│ POINT (-73.9494214…  │   181466 │ 2-IB264c  │ GKNC14-06  │ … │ Package_3  │ Right of Way (ROW) │ Constructed     │\n",
       "│ POINT (-73.9502633…  │   181467 │ 2-IB265d  │ GKNC14-06  │ … │ Package_3  │ Right of Way (ROW) │ Constructed     │\n",
       "│ POINT (-73.9403260…  │   181470 │ 2-IB398d  │ GKNC14-06  │ … │ Package_3  │ Right of Way (ROW) │ Constructed     │\n",
       "│ POINT (-73.9415437…  │   181471 │ 2-IB459d  │ GKNC14-06  │ … │ Package_3  │ Right of Way (ROW) │ Constructed     │\n",
       "│ POINT (-73.9754266…  │   181474 │ 3-IB74d   │ GKNC14-07  │ … │ Package_3  │ Right of Way (ROW) │ Constructed     │\n",
       "│ POINT (-73.8139851…  │   181483 │ RG01      │ QG-119M    │ … │ NULL       │ Public Onsite      │ In Construction │\n",
       "│ POINT (-73.8816425…  │   181488 │ IB1872a   │ GK26W5-04  │ … │ 3          │ Right of Way (ROW) │ Constructed     │\n",
       "│ POINT (-73.8841745…  │   181489 │ IB1911a   │ GK26W5-04  │ … │ 3          │ Right of Way (ROW) │ Constructed     │\n",
       "│ POINT (-73.8753020…  │   181490 │ IB1921a   │ GK26W5-04  │ … │ 3          │ Right of Way (ROW) │ Constructed     │\n",
       "│ POINT (-73.8748961…  │   181491 │ IB1921-1a │ GK26W5-04  │ … │ 3          │ Right of Way (ROW) │ Constructed     │\n",
       "├──────────────────────┴──────────┴───────────┴────────────┴───┴────────────┴────────────────────┴─────────────────┤\n",
       "│ ? rows (>9999 rows, 20 shown)                                                               30 columns (7 shown) │\n",
       "└──────────────────────────────────────────────────────────────────────────────────────────────────────────────────┘"
      ]
     },
     "execution_count": 6,
     "metadata": {},
     "output_type": "execute_result"
    }
   ],
   "source": [
    "# reading in a CSV with the duckdb.read_csv() function\n",
    "path = \"data/green_infrastructure.csv\"\n",
    "\n",
    "duckdb.read_csv(path)"
   ]
  },
  {
   "cell_type": "code",
   "execution_count": 7,
   "id": "d32a2553",
   "metadata": {},
   "outputs": [
    {
     "data": {
      "text/plain": [
       "┌──────────────────────┬──────────┬───────────┬────────────┬───┬────────────┬────────────────────┬─────────────────┐\n",
       "│       the_geom       │ Asset_ID │   GI_ID   │ DEP_Contra │ … │ Construc_1 │     Program_Ar     │   Status_Gro    │\n",
       "│       varchar        │  int64   │  varchar  │  varchar   │   │  varchar   │      varchar       │     varchar     │\n",
       "├──────────────────────┼──────────┼───────────┼────────────┼───┼────────────┼────────────────────┼─────────────────┤\n",
       "│ POINT (-73.8116762…  │    94002 │ 1A        │ GQJA03-02  │ … │ Package-1  │ Right of Way (ROW) │ Constructed     │\n",
       "│ POINT (-73.8122857…  │    94012 │ GS6A      │ GQJA03-02  │ … │ Package-1  │ Right of Way (ROW) │ Constructed     │\n",
       "│ POINT (-73.8122344…  │    94017 │ GS8C      │ GQJA03-02  │ … │ Package-1  │ Right of Way (ROW) │ Constructed     │\n",
       "│ POINT (-73.8120597…  │    94019 │ GS8E      │ GQJA03-02  │ … │ Package-1  │ Right of Way (ROW) │ Constructed     │\n",
       "│ POINT (-73.8131019…  │    94021 │ 10A       │ GQJA03-02  │ … │ Package-1  │ Right of Way (ROW) │ Constructed     │\n",
       "│ POINT (-73.8126597…  │    94031 │ 16A       │ GQJA03-02  │ … │ Package-1  │ Right of Way (ROW) │ Constructed     │\n",
       "│ POINT (-73.8125273…  │    94033 │ 16C       │ GQJA03-02  │ … │ Package-1  │ Right of Way (ROW) │ Constructed     │\n",
       "│ POINT (-73.8124855…  │    94034 │ 16D       │ GQJA03-02  │ … │ Package-1  │ Right of Way (ROW) │ Constructed     │\n",
       "│ POINT (-73.8123016…  │    94036 │ GS18A     │ GQJA03-02  │ … │ Package-1  │ Right of Way (ROW) │ Constructed     │\n",
       "│ POINT (-73.8130240…  │    94037 │ 19A       │ GQJA03-02  │ … │ Package-1  │ Right of Way (ROW) │ Constructed     │\n",
       "│          ·           │      ·   │  ·        │     ·      │ · │     ·      │         ·          │      ·          │\n",
       "│          ·           │      ·   │  ·        │     ·      │ · │     ·      │         ·          │      ·          │\n",
       "│          ·           │      ·   │  ·        │     ·      │ · │     ·      │         ·          │      ·          │\n",
       "│ POINT (-73.9494214…  │   181466 │ 2-IB264c  │ GKNC14-06  │ … │ Package_3  │ Right of Way (ROW) │ Constructed     │\n",
       "│ POINT (-73.9502633…  │   181467 │ 2-IB265d  │ GKNC14-06  │ … │ Package_3  │ Right of Way (ROW) │ Constructed     │\n",
       "│ POINT (-73.9403260…  │   181470 │ 2-IB398d  │ GKNC14-06  │ … │ Package_3  │ Right of Way (ROW) │ Constructed     │\n",
       "│ POINT (-73.9415437…  │   181471 │ 2-IB459d  │ GKNC14-06  │ … │ Package_3  │ Right of Way (ROW) │ Constructed     │\n",
       "│ POINT (-73.9754266…  │   181474 │ 3-IB74d   │ GKNC14-07  │ … │ Package_3  │ Right of Way (ROW) │ Constructed     │\n",
       "│ POINT (-73.8139851…  │   181483 │ RG01      │ QG-119M    │ … │ NULL       │ Public Onsite      │ In Construction │\n",
       "│ POINT (-73.8816425…  │   181488 │ IB1872a   │ GK26W5-04  │ … │ 3          │ Right of Way (ROW) │ Constructed     │\n",
       "│ POINT (-73.8841745…  │   181489 │ IB1911a   │ GK26W5-04  │ … │ 3          │ Right of Way (ROW) │ Constructed     │\n",
       "│ POINT (-73.8753020…  │   181490 │ IB1921a   │ GK26W5-04  │ … │ 3          │ Right of Way (ROW) │ Constructed     │\n",
       "│ POINT (-73.8748961…  │   181491 │ IB1921-1a │ GK26W5-04  │ … │ 3          │ Right of Way (ROW) │ Constructed     │\n",
       "├──────────────────────┴──────────┴───────────┴────────────┴───┴────────────┴────────────────────┴─────────────────┤\n",
       "│ ? rows (>9999 rows, 20 shown)                                                               30 columns (7 shown) │\n",
       "└──────────────────────────────────────────────────────────────────────────────────────────────────────────────────┘"
      ]
     },
     "execution_count": 7,
     "metadata": {},
     "output_type": "execute_result"
    }
   ],
   "source": [
    "# reading in a CSV by opening a connection and copying data to a table\n",
    "con = duckdb.connect()\n",
    "\n",
    "con.sql(\n",
    "    \"CREATE TABLE green_infrastructure AS FROM read_csv('data/green_infrastructure.csv')\"\n",
    ")\n",
    "\n",
    "con.sql(\n",
    "    \"SELECT * FROM green_infrastructure\"\n",
    ")"
   ]
  },
  {
   "cell_type": "code",
   "execution_count": 8,
   "id": "fed41b84",
   "metadata": {},
   "outputs": [
    {
     "name": "stdout",
     "output_type": "stream",
     "text": [
      "/Users/geribauer/duckdb-python-basics/data\n",
      "data-dictionary.xlsx      data-download.ipynb       green_infrastructure.csv\r\n"
     ]
    }
   ],
   "source": [
    "# cd to data folder so we can query CSV file in SELECT statement\n",
    "%cd data/\n",
    "\n",
    "%ls"
   ]
  },
  {
   "cell_type": "code",
   "execution_count": 9,
   "id": "ec888da3",
   "metadata": {},
   "outputs": [
    {
     "data": {
      "text/plain": [
       "┌──────────────────────┬──────────┬─────────┬────────────┬───┬────────────┬────────────────────┬─────────────┐\n",
       "│       the_geom       │ Asset_ID │  GI_ID  │ DEP_Contra │ … │ Construc_1 │     Program_Ar     │ Status_Gro  │\n",
       "│       varchar        │  int64   │ varchar │  varchar   │   │  varchar   │      varchar       │   varchar   │\n",
       "├──────────────────────┼──────────┼─────────┼────────────┼───┼────────────┼────────────────────┼─────────────┤\n",
       "│ POINT (-73.8116762…  │    94002 │ 1A      │ GQJA03-02  │ … │ Package-1  │ Right of Way (ROW) │ Constructed │\n",
       "│ POINT (-73.8122857…  │    94012 │ GS6A    │ GQJA03-02  │ … │ Package-1  │ Right of Way (ROW) │ Constructed │\n",
       "│ POINT (-73.8122344…  │    94017 │ GS8C    │ GQJA03-02  │ … │ Package-1  │ Right of Way (ROW) │ Constructed │\n",
       "│ POINT (-73.8120597…  │    94019 │ GS8E    │ GQJA03-02  │ … │ Package-1  │ Right of Way (ROW) │ Constructed │\n",
       "│ POINT (-73.8131019…  │    94021 │ 10A     │ GQJA03-02  │ … │ Package-1  │ Right of Way (ROW) │ Constructed │\n",
       "│ POINT (-73.8126597…  │    94031 │ 16A     │ GQJA03-02  │ … │ Package-1  │ Right of Way (ROW) │ Constructed │\n",
       "│ POINT (-73.8125273…  │    94033 │ 16C     │ GQJA03-02  │ … │ Package-1  │ Right of Way (ROW) │ Constructed │\n",
       "│ POINT (-73.8124855…  │    94034 │ 16D     │ GQJA03-02  │ … │ Package-1  │ Right of Way (ROW) │ Constructed │\n",
       "│ POINT (-73.8123016…  │    94036 │ GS18A   │ GQJA03-02  │ … │ Package-1  │ Right of Way (ROW) │ Constructed │\n",
       "│ POINT (-73.8130240…  │    94037 │ 19A     │ GQJA03-02  │ … │ Package-1  │ Right of Way (ROW) │ Constructed │\n",
       "├──────────────────────┴──────────┴─────────┴────────────┴───┴────────────┴────────────────────┴─────────────┤\n",
       "│ 10 rows                                                                               30 columns (7 shown) │\n",
       "└────────────────────────────────────────────────────────────────────────────────────────────────────────────┘"
      ]
     },
     "execution_count": 9,
     "metadata": {},
     "output_type": "execute_result"
    }
   ],
   "source": [
    "# reading in a CSV via the duckdb.sql() method\n",
    "duckdb.sql(\n",
    "    \"\"\"\n",
    "    SELECT *\n",
    "    FROM green_infrastructure.csv\n",
    "    LIMIT 10\n",
    "    \"\"\"\n",
    ")"
   ]
  },
  {
   "cell_type": "code",
   "execution_count": 10,
   "id": "0b7b736c",
   "metadata": {},
   "outputs": [
    {
     "name": "stdout",
     "output_type": "stream",
     "text": [
      "/Users/geribauer/duckdb-python-basics\n"
     ]
    }
   ],
   "source": [
    "# cd back to root directory and out of data/\n",
    "%cd ../"
   ]
  },
  {
   "cell_type": "markdown",
   "id": "137f66ea",
   "metadata": {},
   "source": [
    "# 3. DataFrames"
   ]
  },
  {
   "cell_type": "code",
   "execution_count": 11,
   "id": "0287b248",
   "metadata": {},
   "outputs": [
    {
     "data": {
      "text/plain": [
       "┌─────────┐\n",
       "│ numbers │\n",
       "│  int64  │\n",
       "├─────────┤\n",
       "│       1 │\n",
       "│       2 │\n",
       "│       3 │\n",
       "│       4 │\n",
       "└─────────┘"
      ]
     },
     "execution_count": 11,
     "metadata": {},
     "output_type": "execute_result"
    }
   ],
   "source": [
    "# pandas\n",
    "df = pd.DataFrame({\"numbers\": [1, 2, 3, 4]})\n",
    "\n",
    "duckdb.sql(\"SELECT * FROM df\")"
   ]
  },
  {
   "cell_type": "code",
   "execution_count": 12,
   "id": "27a20ed7",
   "metadata": {},
   "outputs": [
    {
     "data": {
      "text/plain": [
       "┌─────────┐\n",
       "│ numbers │\n",
       "│  int64  │\n",
       "├─────────┤\n",
       "│       1 │\n",
       "│       2 │\n",
       "│       3 │\n",
       "│       4 │\n",
       "└─────────┘"
      ]
     },
     "execution_count": 12,
     "metadata": {},
     "output_type": "execute_result"
    }
   ],
   "source": [
    "# polars\n",
    "df = pl.DataFrame({\"numbers\": [1, 2, 3, 4]})\n",
    "\n",
    "duckdb.sql(\"SELECT * FROM df\")"
   ]
  },
  {
   "cell_type": "code",
   "execution_count": 13,
   "id": "c37ccf2f",
   "metadata": {},
   "outputs": [
    {
     "data": {
      "text/plain": [
       "┌─────────┐\n",
       "│ numbers │\n",
       "│  int64  │\n",
       "├─────────┤\n",
       "│       1 │\n",
       "│       2 │\n",
       "│       3 │\n",
       "│       4 │\n",
       "└─────────┘"
      ]
     },
     "execution_count": 13,
     "metadata": {},
     "output_type": "execute_result"
    }
   ],
   "source": [
    "# pyarrow\n",
    "df = pa.Table.from_pydict({\"numbers\": [1, 2, 3, 4]})\n",
    "\n",
    "duckdb.sql(\"SELECT * FROM df\")"
   ]
  },
  {
   "cell_type": "markdown",
   "id": "17958ed3",
   "metadata": {},
   "source": [
    "# 4. Result Conversion"
   ]
  },
  {
   "cell_type": "code",
   "execution_count": 14,
   "id": "7276322a",
   "metadata": {},
   "outputs": [
    {
     "name": "stdout",
     "output_type": "stream",
     "text": [
      "<class 'list'>\n",
      "<class 'dict'>\n",
      "<class 'pandas.core.frame.DataFrame'>\n",
      "<class 'polars.dataframe.frame.DataFrame'>\n",
      "<class 'pyarrow.lib.Table'>\n"
     ]
    }
   ],
   "source": [
    "# Python objects\n",
    "print(type(duckdb.sql(\"SELECT 1 as num\").fetchall()))\n",
    "\n",
    "# NumPy Arrays\n",
    "print(type(duckdb.sql(\"SELECT 1 as num\").fetchnumpy())) \n",
    "\n",
    "# Pandas DataFrame\n",
    "print(type(duckdb.sql(\"SELECT 1 as num\").df()))\n",
    "\n",
    "# Polars DataFrame\n",
    "print(type(duckdb.sql(\"SELECT 1 as num\").pl()))\n",
    "\n",
    "# Arrow Table\n",
    "print(type(duckdb.sql(\"SELECT 1 as num\").arrow()))"
   ]
  },
  {
   "cell_type": "code",
   "execution_count": 15,
   "id": "09876990",
   "metadata": {},
   "outputs": [
    {
     "data": {
      "text/html": [
       "<div>\n",
       "<style scoped>\n",
       "    .dataframe tbody tr th:only-of-type {\n",
       "        vertical-align: middle;\n",
       "    }\n",
       "\n",
       "    .dataframe tbody tr th {\n",
       "        vertical-align: top;\n",
       "    }\n",
       "\n",
       "    .dataframe thead th {\n",
       "        text-align: right;\n",
       "    }\n",
       "</style>\n",
       "<table border=\"1\" class=\"dataframe\">\n",
       "  <thead>\n",
       "    <tr style=\"text-align: right;\">\n",
       "      <th></th>\n",
       "      <th>num</th>\n",
       "    </tr>\n",
       "  </thead>\n",
       "  <tbody>\n",
       "    <tr>\n",
       "      <th>0</th>\n",
       "      <td>1</td>\n",
       "    </tr>\n",
       "  </tbody>\n",
       "</table>\n",
       "</div>"
      ],
      "text/plain": [
       "   num\n",
       "0    1"
      ]
     },
     "execution_count": 15,
     "metadata": {},
     "output_type": "execute_result"
    }
   ],
   "source": [
    "# Example: pandas DataFrame\n",
    "duckdb.sql(\"SELECT 1 as num\").df()"
   ]
  },
  {
   "cell_type": "code",
   "execution_count": 16,
   "id": "a000685c",
   "metadata": {},
   "outputs": [
    {
     "data": {
      "text/plain": [
       "pandas.core.frame.DataFrame"
      ]
     },
     "execution_count": 16,
     "metadata": {},
     "output_type": "execute_result"
    }
   ],
   "source": [
    "type(duckdb.sql(\"SELECT 1 as num\").df())"
   ]
  },
  {
   "cell_type": "markdown",
   "id": "2b5d1563",
   "metadata": {},
   "source": [
    "# 5. Writing Data to Disk"
   ]
  },
  {
   "cell_type": "code",
   "execution_count": 17,
   "id": "e96114dc",
   "metadata": {},
   "outputs": [],
   "source": [
    "# Write to a CSV file\n",
    "duckdb.sql(\"SELECT 100\").write_csv(\"data/out.csv\") \n",
    "\n",
    "# Write to a Parquet file\n",
    "duckdb.sql(\"SELECT 100\").write_parquet(\"data/out.parquet\") \n",
    "\n",
    "# Copy to a Parquet file\n",
    "duckdb.sql(\"COPY (SELECT 100) TO 'data/out.parquet'\")      "
   ]
  },
  {
   "cell_type": "code",
   "execution_count": 18,
   "id": "2cf98826",
   "metadata": {},
   "outputs": [
    {
     "name": "stdout",
     "output_type": "stream",
     "text": [
      "data-dictionary.xlsx      green_infrastructure.csv  out.parquet\r\n",
      "data-download.ipynb       out.csv\r\n"
     ]
    }
   ],
   "source": [
    "ls data/"
   ]
  },
  {
   "cell_type": "markdown",
   "id": "2c0f58f3",
   "metadata": {},
   "source": [
    "# 6. Connection Options"
   ]
  },
  {
   "cell_type": "markdown",
   "id": "eade746e",
   "metadata": {},
   "source": [
    "## 6.1 Using an In-Memory Database"
   ]
  },
  {
   "cell_type": "code",
   "execution_count": 19,
   "id": "cf649c71",
   "metadata": {},
   "outputs": [
    {
     "data": {
      "text/plain": [
       "duckdb.duckdb.DuckDBPyConnection"
      ]
     },
     "execution_count": 19,
     "metadata": {},
     "output_type": "execute_result"
    }
   ],
   "source": [
    "# create a DuckDB database instance\n",
    "con = duckdb.connect()\n",
    "\n",
    "type(con)"
   ]
  },
  {
   "cell_type": "code",
   "execution_count": 20,
   "id": "e6a16bbb",
   "metadata": {},
   "outputs": [
    {
     "name": "stdout",
     "output_type": "stream",
     "text": [
      "┌───────┬─────────┐\n",
      "│  num  │ letter  │\n",
      "│ int32 │ varchar │\n",
      "├───────┼─────────┤\n",
      "│     1 │ a       │\n",
      "└───────┴─────────┘\n",
      "\n"
     ]
    }
   ],
   "source": [
    "(con\n",
    " .sql(\"SELECT 1 AS num, 'a' AS letter\")\n",
    " .show()\n",
    ")"
   ]
  },
  {
   "cell_type": "markdown",
   "id": "95fa83d3",
   "metadata": {},
   "source": [
    "## 6.2 Persistent Storage"
   ]
  },
  {
   "cell_type": "markdown",
   "id": "556988e8",
   "metadata": {},
   "source": [
    "A connection to a persistent database can be created using the `connect` function."
   ]
  },
  {
   "cell_type": "code",
   "execution_count": 21,
   "id": "7595887f",
   "metadata": {},
   "outputs": [
    {
     "name": "stdout",
     "output_type": "stream",
     "text": [
      "┌───────┐\n",
      "│   i   │\n",
      "│ int32 │\n",
      "├───────┤\n",
      "│     1 │\n",
      "│     2 │\n",
      "└───────┘\n",
      "\n"
     ]
    }
   ],
   "source": [
    "con = duckdb.connect(\"data/file.db\")\n",
    "\n",
    "con.sql(\"CREATE TABLE IF NOT EXISTS integers (i INTEGER)\")\n",
    "con.sql(\"INSERT INTO integers VALUES (1), (2)\")\n",
    "\n",
    "con.sql(\"SELECT * FROM integers\").show()"
   ]
  },
  {
   "cell_type": "code",
   "execution_count": 22,
   "id": "46ca95dd",
   "metadata": {},
   "outputs": [
    {
     "name": "stdout",
     "output_type": "stream",
     "text": [
      "┌───────┐\n",
      "│   i   │\n",
      "│ int32 │\n",
      "├───────┤\n",
      "│     1 │\n",
      "│     2 │\n",
      "└───────┘\n",
      "\n"
     ]
    }
   ],
   "source": [
    "# reload the same file.db\n",
    "con = duckdb.connect(\"data/file.db\")\n",
    "\n",
    "con.sql(\"SELECT * FROM integers\").show()"
   ]
  },
  {
   "cell_type": "code",
   "execution_count": 23,
   "id": "7aa7493a",
   "metadata": {},
   "outputs": [
    {
     "name": "stdout",
     "output_type": "stream",
     "text": [
      "┌───────┐\n",
      "│   i   │\n",
      "│ int32 │\n",
      "├───────┤\n",
      "│     1 │\n",
      "│     2 │\n",
      "│     3 │\n",
      "└───────┘\n",
      "\n"
     ]
    }
   ],
   "source": [
    "# create a connection to a file called 'file.db'\n",
    "con = duckdb.connect(\"data/file.db\")\n",
    "\n",
    "# insert new values to file.db\n",
    "con.sql(\"INSERT INTO integers VALUES (3)\")\n",
    "\n",
    "# query the table\n",
    "con.table(\"integers\").show()\n",
    "\n",
    "# explicitly close the connection\n",
    "con.close()\n",
    "# Note: connections also closed implicitly when they go out of scope"
   ]
  },
  {
   "cell_type": "code",
   "execution_count": 24,
   "id": "a7fae280",
   "metadata": {},
   "outputs": [
    {
     "name": "stdout",
     "output_type": "stream",
     "text": [
      "┌───────┐\n",
      "│   i   │\n",
      "│ int32 │\n",
      "├───────┤\n",
      "│     1 │\n",
      "│     2 │\n",
      "│     3 │\n",
      "│     4 │\n",
      "└───────┘\n",
      "\n"
     ]
    }
   ],
   "source": [
    "# use a context manager to ensure connection is closed\n",
    "with duckdb.connect(\"data/file.db\") as con:\n",
    "    con.sql(\"INSERT INTO integers VALUES (4)\")\n",
    "    con.table(\"integers\").show()\n",
    "    # the context manager closes the connection automatically"
   ]
  },
  {
   "cell_type": "markdown",
   "id": "49dbd761",
   "metadata": {},
   "source": [
    "# 7. Loading and Installing Extensions\n",
    "Overview of extensions: https://duckdb.org/docs/extensions/overview\n",
    "\n",
    "Note: I had to build this extension [from source](https://duckdb.org/docs/dev/building/overview.html), but make sure to thoroughly review DuckDB's extension guides. I'll use the `httpfs` extension as an example."
   ]
  },
  {
   "cell_type": "code",
   "execution_count": 25,
   "id": "932f1030",
   "metadata": {},
   "outputs": [
    {
     "data": {
      "text/plain": [
       "┌──────────┬──────────────────────┬──────────────────────┬───┬──────────────┬──────────────────────┬─────────────┐\n",
       "│ VendorID │ tpep_pickup_datetime │ tpep_dropoff_datet…  │ … │ total_amount │ congestion_surcharge │ Airport_fee │\n",
       "│  int32   │      timestamp       │      timestamp       │   │    double    │        double        │   double    │\n",
       "├──────────┼──────────────────────┼──────────────────────┼───┼──────────────┼──────────────────────┼─────────────┤\n",
       "│        2 │ 2024-01-01 00:57:55  │ 2024-01-01 01:17:43  │ … │         22.7 │                  2.5 │         0.0 │\n",
       "│        1 │ 2024-01-01 00:03:00  │ 2024-01-01 00:09:36  │ … │        18.75 │                  2.5 │         0.0 │\n",
       "│        1 │ 2024-01-01 00:17:06  │ 2024-01-01 00:35:01  │ … │         31.3 │                  2.5 │         0.0 │\n",
       "│        1 │ 2024-01-01 00:36:38  │ 2024-01-01 00:44:56  │ … │         17.0 │                  2.5 │         0.0 │\n",
       "│        1 │ 2024-01-01 00:46:51  │ 2024-01-01 00:52:57  │ … │         16.1 │                  2.5 │         0.0 │\n",
       "│        1 │ 2024-01-01 00:54:08  │ 2024-01-01 01:26:31  │ … │         41.5 │                  2.5 │         0.0 │\n",
       "│        2 │ 2024-01-01 00:49:44  │ 2024-01-01 01:15:47  │ … │        64.95 │                  0.0 │        1.75 │\n",
       "│        1 │ 2024-01-01 00:30:40  │ 2024-01-01 00:58:40  │ … │         30.4 │                  2.5 │         0.0 │\n",
       "│        2 │ 2024-01-01 00:26:01  │ 2024-01-01 00:54:12  │ … │         36.0 │                  2.5 │         0.0 │\n",
       "│        2 │ 2024-01-01 00:28:08  │ 2024-01-01 00:29:16  │ … │          8.0 │                  2.5 │         0.0 │\n",
       "├──────────┴──────────────────────┴──────────────────────┴───┴──────────────┴──────────────────────┴─────────────┤\n",
       "│ 10 rows                                                                                   19 columns (6 shown) │\n",
       "└────────────────────────────────────────────────────────────────────────────────────────────────────────────────┘"
      ]
     },
     "execution_count": 25,
     "metadata": {},
     "output_type": "execute_result"
    }
   ],
   "source": [
    "con = duckdb.connect(config={\"allow_unsigned_extensions\": \"true\"})\n",
    "path = \"../duckdb/build/release/repository/v0.10.0/osx_amd64/httpfs.duckdb_extension\"\n",
    "\n",
    "# install and load extension\n",
    "con.install_extension(path)\n",
    "con.load_extension(path)\n",
    "\n",
    "# query nyc taxi data\n",
    "con.sql(\n",
    "    \"\"\"\n",
    "    SELECT *\n",
    "    FROM 'https://d37ci6vzurychx.cloudfront.net/trip-data/yellow_tripdata_2024-01.parquet'\n",
    "    LIMIT 10\n",
    "    \"\"\"\n",
    ")"
   ]
  },
  {
   "cell_type": "code",
   "execution_count": 26,
   "id": "49eb4631",
   "metadata": {},
   "outputs": [
    {
     "data": {
      "text/plain": [
       "┌─────────┐\n",
       "│  count  │\n",
       "│  int64  │\n",
       "├─────────┤\n",
       "│ 2964624 │\n",
       "└─────────┘"
      ]
     },
     "execution_count": 26,
     "metadata": {},
     "output_type": "execute_result"
    }
   ],
   "source": [
    "# query nyc taxi data\n",
    "con.sql(\n",
    "    \"\"\"\n",
    "    SELECT COUNT(*) as count\n",
    "    FROM 'https://d37ci6vzurychx.cloudfront.net/trip-data/yellow_tripdata_2024-01.parquet'\n",
    "    \"\"\"\n",
    ")"
   ]
  },
  {
   "cell_type": "code",
   "execution_count": 27,
   "id": "7a4738cf",
   "metadata": {},
   "outputs": [],
   "source": [
    "con.close()"
   ]
  },
  {
   "cell_type": "markdown",
   "id": "c4d5947b",
   "metadata": {},
   "source": [
    "# 8. Jupyter Notebooks and Querying Pandas Dataframes"
   ]
  },
  {
   "cell_type": "code",
   "execution_count": 28,
   "id": "a109ad9b",
   "metadata": {},
   "outputs": [],
   "source": [
    "%reload_ext sql\n",
    "conn = duckdb.connect(config={\"allow_unsigned_extensions\": \"true\"})\n",
    "%sql conn --alias duckdb\n",
    "\n",
    "%config SqlMagic.autopandas = True\n",
    "%config SqlMagic.feedback = False\n",
    "%config SqlMagic.displaycon = False"
   ]
  },
  {
   "cell_type": "code",
   "execution_count": 29,
   "id": "0f3cfa14",
   "metadata": {},
   "outputs": [
    {
     "name": "stdout",
     "output_type": "stream",
     "text": [
      "<class 'pandas.core.frame.DataFrame'>\n"
     ]
    },
    {
     "data": {
      "text/html": [
       "<div>\n",
       "<style scoped>\n",
       "    .dataframe tbody tr th:only-of-type {\n",
       "        vertical-align: middle;\n",
       "    }\n",
       "\n",
       "    .dataframe tbody tr th {\n",
       "        vertical-align: top;\n",
       "    }\n",
       "\n",
       "    .dataframe thead th {\n",
       "        text-align: right;\n",
       "    }\n",
       "</style>\n",
       "<table border=\"1\" class=\"dataframe\">\n",
       "  <thead>\n",
       "    <tr style=\"text-align: right;\">\n",
       "      <th></th>\n",
       "      <th>letter</th>\n",
       "    </tr>\n",
       "  </thead>\n",
       "  <tbody>\n",
       "    <tr>\n",
       "      <th>0</th>\n",
       "      <td>a</td>\n",
       "    </tr>\n",
       "  </tbody>\n",
       "</table>\n",
       "</div>"
      ],
      "text/plain": [
       "  letter\n",
       "0      a"
      ]
     },
     "execution_count": 29,
     "metadata": {},
     "output_type": "execute_result"
    }
   ],
   "source": [
    "%sql res << SELECT 'a' AS letter;\n",
    "\n",
    "print(type(res))\n",
    "res"
   ]
  },
  {
   "cell_type": "code",
   "execution_count": 30,
   "id": "e217e58b",
   "metadata": {},
   "outputs": [
    {
     "data": {
      "text/html": [
       "<div>\n",
       "<style scoped>\n",
       "    .dataframe tbody tr th:only-of-type {\n",
       "        vertical-align: middle;\n",
       "    }\n",
       "\n",
       "    .dataframe tbody tr th {\n",
       "        vertical-align: top;\n",
       "    }\n",
       "\n",
       "    .dataframe thead th {\n",
       "        text-align: right;\n",
       "    }\n",
       "</style>\n",
       "<table border=\"1\" class=\"dataframe\">\n",
       "  <thead>\n",
       "    <tr style=\"text-align: right;\">\n",
       "      <th></th>\n",
       "      <th>i</th>\n",
       "      <th>j</th>\n",
       "    </tr>\n",
       "  </thead>\n",
       "  <tbody>\n",
       "    <tr>\n",
       "      <th>0</th>\n",
       "      <td>1</td>\n",
       "      <td>one</td>\n",
       "    </tr>\n",
       "    <tr>\n",
       "      <th>1</th>\n",
       "      <td>2</td>\n",
       "      <td>two</td>\n",
       "    </tr>\n",
       "    <tr>\n",
       "      <th>2</th>\n",
       "      <td>3</td>\n",
       "      <td>three</td>\n",
       "    </tr>\n",
       "  </tbody>\n",
       "</table>\n",
       "</div>"
      ],
      "text/plain": [
       "   i      j\n",
       "0  1    one\n",
       "1  2    two\n",
       "2  3  three"
      ]
     },
     "execution_count": 30,
     "metadata": {},
     "output_type": "execute_result"
    }
   ],
   "source": [
    "dct = {\n",
    "    \"i\": [1, 2, 3],\n",
    "    \"j\": [\"one\", \"two\", \"three\"]\n",
    "}\n",
    "\n",
    "input_df = pd.DataFrame.from_dict(dct)\n",
    "\n",
    "input_df"
   ]
  },
  {
   "cell_type": "code",
   "execution_count": 31,
   "id": "543bcafc",
   "metadata": {},
   "outputs": [],
   "source": [
    "%%sql output_df <<\n",
    "SELECT sum(i)AS total_i\n",
    "FROM input_df;"
   ]
  },
  {
   "cell_type": "code",
   "execution_count": 32,
   "id": "867c98c2",
   "metadata": {},
   "outputs": [
    {
     "data": {
      "text/html": [
       "<div>\n",
       "<style scoped>\n",
       "    .dataframe tbody tr th:only-of-type {\n",
       "        vertical-align: middle;\n",
       "    }\n",
       "\n",
       "    .dataframe tbody tr th {\n",
       "        vertical-align: top;\n",
       "    }\n",
       "\n",
       "    .dataframe thead th {\n",
       "        text-align: right;\n",
       "    }\n",
       "</style>\n",
       "<table border=\"1\" class=\"dataframe\">\n",
       "  <thead>\n",
       "    <tr style=\"text-align: right;\">\n",
       "      <th></th>\n",
       "      <th>total_i</th>\n",
       "    </tr>\n",
       "  </thead>\n",
       "  <tbody>\n",
       "    <tr>\n",
       "      <th>0</th>\n",
       "      <td>6.0</td>\n",
       "    </tr>\n",
       "  </tbody>\n",
       "</table>\n",
       "</div>"
      ],
      "text/plain": [
       "   total_i\n",
       "0      6.0"
      ]
     },
     "execution_count": 32,
     "metadata": {},
     "output_type": "execute_result"
    }
   ],
   "source": [
    "output_df"
   ]
  },
  {
   "cell_type": "code",
   "execution_count": 33,
   "id": "118d3187",
   "metadata": {},
   "outputs": [
    {
     "data": {
      "text/html": [
       "<div>\n",
       "<style scoped>\n",
       "    .dataframe tbody tr th:only-of-type {\n",
       "        vertical-align: middle;\n",
       "    }\n",
       "\n",
       "    .dataframe tbody tr th {\n",
       "        vertical-align: top;\n",
       "    }\n",
       "\n",
       "    .dataframe thead th {\n",
       "        text-align: right;\n",
       "    }\n",
       "</style>\n",
       "<table border=\"1\" class=\"dataframe\">\n",
       "  <thead>\n",
       "    <tr style=\"text-align: right;\">\n",
       "      <th></th>\n",
       "      <th>the_geom</th>\n",
       "      <th>Asset_ID</th>\n",
       "      <th>GI_ID</th>\n",
       "      <th>DEP_Contra</th>\n",
       "      <th>DEP_Cont_1</th>\n",
       "      <th>Row_Onsite</th>\n",
       "      <th>Project_Na</th>\n",
       "      <th>Asset_Type</th>\n",
       "      <th>Status</th>\n",
       "      <th>Asset_X_Co</th>\n",
       "      <th>...</th>\n",
       "      <th>Asset_Leng</th>\n",
       "      <th>Asset_Widt</th>\n",
       "      <th>Asset_Area</th>\n",
       "      <th>GI_Feature</th>\n",
       "      <th>Tree_Latin</th>\n",
       "      <th>Tree_Commo</th>\n",
       "      <th>Constructi</th>\n",
       "      <th>Construc_1</th>\n",
       "      <th>Program_Ar</th>\n",
       "      <th>Status_Gro</th>\n",
       "    </tr>\n",
       "  </thead>\n",
       "  <tbody>\n",
       "    <tr>\n",
       "      <th>0</th>\n",
       "      <td>POINT (-73.81167623024226 40.69138622900597)</td>\n",
       "      <td>94002</td>\n",
       "      <td>1A</td>\n",
       "      <td>GQJA03-02</td>\n",
       "      <td>2</td>\n",
       "      <td>ROW</td>\n",
       "      <td>DDC JAM-003 Phase 2</td>\n",
       "      <td>ROWB</td>\n",
       "      <td>Constructed (Full Maintenance)</td>\n",
       "      <td>1.036475e+06</td>\n",
       "      <td>...</td>\n",
       "      <td>17.0</td>\n",
       "      <td>5.0</td>\n",
       "      <td>85.0</td>\n",
       "      <td>Standard</td>\n",
       "      <td>Syringa reticulata</td>\n",
       "      <td>Japanese Tree Lilac</td>\n",
       "      <td>GCJA03-2A</td>\n",
       "      <td>Package-1</td>\n",
       "      <td>Right of Way (ROW)</td>\n",
       "      <td>Constructed</td>\n",
       "    </tr>\n",
       "    <tr>\n",
       "      <th>1</th>\n",
       "      <td>POINT (-73.81228577606385 40.69238458134393)</td>\n",
       "      <td>94012</td>\n",
       "      <td>GS6A</td>\n",
       "      <td>GQJA03-02</td>\n",
       "      <td>2</td>\n",
       "      <td>ROW</td>\n",
       "      <td>DDC JAM-003 Phase 2</td>\n",
       "      <td>ROWGS</td>\n",
       "      <td>Constructed (Full Maintenance)</td>\n",
       "      <td>1.036305e+06</td>\n",
       "      <td>...</td>\n",
       "      <td>13.0</td>\n",
       "      <td>3.5</td>\n",
       "      <td>45.5</td>\n",
       "      <td>None</td>\n",
       "      <td>No Tree</td>\n",
       "      <td>N/A</td>\n",
       "      <td>GCJA03-2A</td>\n",
       "      <td>Package-1</td>\n",
       "      <td>Right of Way (ROW)</td>\n",
       "      <td>Constructed</td>\n",
       "    </tr>\n",
       "    <tr>\n",
       "      <th>2</th>\n",
       "      <td>POINT (-73.8122344420821 40.69312522070409)</td>\n",
       "      <td>94017</td>\n",
       "      <td>GS8C</td>\n",
       "      <td>GQJA03-02</td>\n",
       "      <td>2</td>\n",
       "      <td>ROW</td>\n",
       "      <td>DDC JAM-003 Phase 2</td>\n",
       "      <td>ROWGS</td>\n",
       "      <td>Constructed (Full Maintenance)</td>\n",
       "      <td>1.036319e+06</td>\n",
       "      <td>...</td>\n",
       "      <td>20.0</td>\n",
       "      <td>3.5</td>\n",
       "      <td>70.0</td>\n",
       "      <td>None</td>\n",
       "      <td>No Tree</td>\n",
       "      <td>N/A</td>\n",
       "      <td>GCJA03-2A</td>\n",
       "      <td>Package-1</td>\n",
       "      <td>Right of Way (ROW)</td>\n",
       "      <td>Constructed</td>\n",
       "    </tr>\n",
       "    <tr>\n",
       "      <th>3</th>\n",
       "      <td>POINT (-73.8120597400255 40.6931738947353)</td>\n",
       "      <td>94019</td>\n",
       "      <td>GS8E</td>\n",
       "      <td>GQJA03-02</td>\n",
       "      <td>2</td>\n",
       "      <td>ROW</td>\n",
       "      <td>DDC JAM-003 Phase 2</td>\n",
       "      <td>ROWGS</td>\n",
       "      <td>Constructed (Full Maintenance)</td>\n",
       "      <td>1.036368e+06</td>\n",
       "      <td>...</td>\n",
       "      <td>20.0</td>\n",
       "      <td>3.5</td>\n",
       "      <td>70.0</td>\n",
       "      <td>None</td>\n",
       "      <td>No Tree</td>\n",
       "      <td>N/A</td>\n",
       "      <td>GCJA03-2A</td>\n",
       "      <td>Package-1</td>\n",
       "      <td>Right of Way (ROW)</td>\n",
       "      <td>Constructed</td>\n",
       "    </tr>\n",
       "    <tr>\n",
       "      <th>4</th>\n",
       "      <td>POINT (-73.81310191327061 40.69279332424906)</td>\n",
       "      <td>94021</td>\n",
       "      <td>10A</td>\n",
       "      <td>GQJA03-02</td>\n",
       "      <td>2</td>\n",
       "      <td>ROW</td>\n",
       "      <td>DDC JAM-003 Phase 2</td>\n",
       "      <td>ROWB</td>\n",
       "      <td>Constructed (Full Maintenance)</td>\n",
       "      <td>1.036079e+06</td>\n",
       "      <td>...</td>\n",
       "      <td>13.0</td>\n",
       "      <td>4.0</td>\n",
       "      <td>52.0</td>\n",
       "      <td>Standard</td>\n",
       "      <td>Quercus palustris</td>\n",
       "      <td>Pin Oak</td>\n",
       "      <td>GCJA03-2A</td>\n",
       "      <td>Package-1</td>\n",
       "      <td>Right of Way (ROW)</td>\n",
       "      <td>Constructed</td>\n",
       "    </tr>\n",
       "  </tbody>\n",
       "</table>\n",
       "<p>5 rows × 30 columns</p>\n",
       "</div>"
      ],
      "text/plain": [
       "                                       the_geom  Asset_ID GI_ID DEP_Contra  \\\n",
       "0  POINT (-73.81167623024226 40.69138622900597)     94002    1A  GQJA03-02   \n",
       "1  POINT (-73.81228577606385 40.69238458134393)     94012  GS6A  GQJA03-02   \n",
       "2   POINT (-73.8122344420821 40.69312522070409)     94017  GS8C  GQJA03-02   \n",
       "3    POINT (-73.8120597400255 40.6931738947353)     94019  GS8E  GQJA03-02   \n",
       "4  POINT (-73.81310191327061 40.69279332424906)     94021   10A  GQJA03-02   \n",
       "\n",
       "  DEP_Cont_1 Row_Onsite           Project_Na Asset_Type  \\\n",
       "0          2        ROW  DDC JAM-003 Phase 2       ROWB   \n",
       "1          2        ROW  DDC JAM-003 Phase 2      ROWGS   \n",
       "2          2        ROW  DDC JAM-003 Phase 2      ROWGS   \n",
       "3          2        ROW  DDC JAM-003 Phase 2      ROWGS   \n",
       "4          2        ROW  DDC JAM-003 Phase 2       ROWB   \n",
       "\n",
       "                           Status    Asset_X_Co  ...  Asset_Leng Asset_Widt  \\\n",
       "0  Constructed (Full Maintenance)  1.036475e+06  ...        17.0        5.0   \n",
       "1  Constructed (Full Maintenance)  1.036305e+06  ...        13.0        3.5   \n",
       "2  Constructed (Full Maintenance)  1.036319e+06  ...        20.0        3.5   \n",
       "3  Constructed (Full Maintenance)  1.036368e+06  ...        20.0        3.5   \n",
       "4  Constructed (Full Maintenance)  1.036079e+06  ...        13.0        4.0   \n",
       "\n",
       "  Asset_Area GI_Feature          Tree_Latin           Tree_Commo  Constructi  \\\n",
       "0       85.0   Standard  Syringa reticulata  Japanese Tree Lilac   GCJA03-2A   \n",
       "1       45.5       None             No Tree                  N/A   GCJA03-2A   \n",
       "2       70.0       None             No Tree                  N/A   GCJA03-2A   \n",
       "3       70.0       None             No Tree                  N/A   GCJA03-2A   \n",
       "4       52.0   Standard   Quercus palustris              Pin Oak   GCJA03-2A   \n",
       "\n",
       "   Construc_1          Program_Ar   Status_Gro  \n",
       "0   Package-1  Right of Way (ROW)  Constructed  \n",
       "1   Package-1  Right of Way (ROW)  Constructed  \n",
       "2   Package-1  Right of Way (ROW)  Constructed  \n",
       "3   Package-1  Right of Way (ROW)  Constructed  \n",
       "4   Package-1  Right of Way (ROW)  Constructed  \n",
       "\n",
       "[5 rows x 30 columns]"
      ]
     },
     "execution_count": 33,
     "metadata": {},
     "output_type": "execute_result"
    }
   ],
   "source": [
    "%%sql\n",
    "SELECT *\n",
    "FROM \"data/green_infrastructure.csv\"\n",
    "LIMIT 5;"
   ]
  },
  {
   "cell_type": "code",
   "execution_count": 34,
   "id": "cc4d81ac",
   "metadata": {},
   "outputs": [
    {
     "data": {
      "text/html": [
       "<div>\n",
       "<style scoped>\n",
       "    .dataframe tbody tr th:only-of-type {\n",
       "        vertical-align: middle;\n",
       "    }\n",
       "\n",
       "    .dataframe tbody tr th {\n",
       "        vertical-align: top;\n",
       "    }\n",
       "\n",
       "    .dataframe thead th {\n",
       "        text-align: right;\n",
       "    }\n",
       "</style>\n",
       "<table border=\"1\" class=\"dataframe\">\n",
       "  <thead>\n",
       "    <tr style=\"text-align: right;\">\n",
       "      <th></th>\n",
       "      <th>count</th>\n",
       "    </tr>\n",
       "  </thead>\n",
       "  <tbody>\n",
       "    <tr>\n",
       "      <th>0</th>\n",
       "      <td>14718</td>\n",
       "    </tr>\n",
       "  </tbody>\n",
       "</table>\n",
       "</div>"
      ],
      "text/plain": [
       "   count\n",
       "0  14718"
      ]
     },
     "execution_count": 34,
     "metadata": {},
     "output_type": "execute_result"
    }
   ],
   "source": [
    "%%sql\n",
    "SELECT COUNT(*) AS count\n",
    "FROM \"data/green_infrastructure.csv\";"
   ]
  },
  {
   "cell_type": "code",
   "execution_count": 35,
   "id": "1e007d71",
   "metadata": {},
   "outputs": [
    {
     "data": {
      "text/html": [
       "<div>\n",
       "<style scoped>\n",
       "    .dataframe tbody tr th:only-of-type {\n",
       "        vertical-align: middle;\n",
       "    }\n",
       "\n",
       "    .dataframe tbody tr th {\n",
       "        vertical-align: top;\n",
       "    }\n",
       "\n",
       "    .dataframe thead th {\n",
       "        text-align: right;\n",
       "    }\n",
       "</style>\n",
       "<table border=\"1\" class=\"dataframe\">\n",
       "  <thead>\n",
       "    <tr style=\"text-align: right;\">\n",
       "      <th></th>\n",
       "      <th>the_geom</th>\n",
       "      <th>Asset_ID</th>\n",
       "      <th>GI_ID</th>\n",
       "      <th>DEP_Contra</th>\n",
       "      <th>DEP_Cont_1</th>\n",
       "      <th>Row_Onsite</th>\n",
       "      <th>Project_Na</th>\n",
       "      <th>Asset_Type</th>\n",
       "      <th>Status</th>\n",
       "      <th>Asset_X_Co</th>\n",
       "      <th>...</th>\n",
       "      <th>Asset_Leng</th>\n",
       "      <th>Asset_Widt</th>\n",
       "      <th>Asset_Area</th>\n",
       "      <th>GI_Feature</th>\n",
       "      <th>Tree_Latin</th>\n",
       "      <th>Tree_Commo</th>\n",
       "      <th>Constructi</th>\n",
       "      <th>Construc_1</th>\n",
       "      <th>Program_Ar</th>\n",
       "      <th>Status_Gro</th>\n",
       "    </tr>\n",
       "  </thead>\n",
       "  <tbody>\n",
       "    <tr>\n",
       "      <th>0</th>\n",
       "      <td>POINT (-74.00229569924448 40.757951817712886)</td>\n",
       "      <td>138087</td>\n",
       "      <td>JCGR-1</td>\n",
       "      <td>PRIVATE_GR</td>\n",
       "      <td>OA</td>\n",
       "      <td>Onsite</td>\n",
       "      <td>Javits Center Green Roof</td>\n",
       "      <td>Green Roof</td>\n",
       "      <td>Constructed</td>\n",
       "      <td>9.836140e+05</td>\n",
       "      <td>...</td>\n",
       "      <td>0.0</td>\n",
       "      <td>0.0</td>\n",
       "      <td>435000.00</td>\n",
       "      <td>None</td>\n",
       "      <td>None</td>\n",
       "      <td>None</td>\n",
       "      <td>None</td>\n",
       "      <td>None</td>\n",
       "      <td>External</td>\n",
       "      <td>Constructed</td>\n",
       "    </tr>\n",
       "    <tr>\n",
       "      <th>1</th>\n",
       "      <td>POINT (-73.97540677936354 40.68267969192586)</td>\n",
       "      <td>184036</td>\n",
       "      <td>BRCL_1</td>\n",
       "      <td>EXTGR-1</td>\n",
       "      <td>1</td>\n",
       "      <td>Onsite</td>\n",
       "      <td>620 Atlantic Avenue</td>\n",
       "      <td>Green Roof</td>\n",
       "      <td>Constructed</td>\n",
       "      <td>9.910710e+05</td>\n",
       "      <td>...</td>\n",
       "      <td>0.0</td>\n",
       "      <td>0.0</td>\n",
       "      <td>128158.78</td>\n",
       "      <td>None</td>\n",
       "      <td>None</td>\n",
       "      <td>None</td>\n",
       "      <td>None</td>\n",
       "      <td>None</td>\n",
       "      <td>External</td>\n",
       "      <td>Constructed</td>\n",
       "    </tr>\n",
       "    <tr>\n",
       "      <th>2</th>\n",
       "      <td>POINT (-73.97336608102242 40.72171423026087)</td>\n",
       "      <td>187175</td>\n",
       "      <td>JohnVL-1</td>\n",
       "      <td>M144-214MA</td>\n",
       "      <td>1</td>\n",
       "      <td>Onsite</td>\n",
       "      <td>John V. Lindsay East River Park - Synthetic Tu...</td>\n",
       "      <td>Synthetic Turf Field Storage Layer</td>\n",
       "      <td>Constructed</td>\n",
       "      <td>9.916327e+05</td>\n",
       "      <td>...</td>\n",
       "      <td>0.0</td>\n",
       "      <td>0.0</td>\n",
       "      <td>102660.00</td>\n",
       "      <td>None</td>\n",
       "      <td>None</td>\n",
       "      <td>None</td>\n",
       "      <td>None</td>\n",
       "      <td>None</td>\n",
       "      <td>External</td>\n",
       "      <td>Constructed</td>\n",
       "    </tr>\n",
       "    <tr>\n",
       "      <th>3</th>\n",
       "      <td>POINT (-73.87308060078496 40.67026320022855)</td>\n",
       "      <td>187191</td>\n",
       "      <td>B103-01STa</td>\n",
       "      <td>B103-116M</td>\n",
       "      <td>1</td>\n",
       "      <td>Onsite</td>\n",
       "      <td>Cypress Hills PG - Synthetic Turf Field Constr...</td>\n",
       "      <td>Synthetic Turf Field Storage Layer</td>\n",
       "      <td>Constructed</td>\n",
       "      <td>1.019458e+06</td>\n",
       "      <td>...</td>\n",
       "      <td>439.0</td>\n",
       "      <td>296.0</td>\n",
       "      <td>130383.00</td>\n",
       "      <td>None</td>\n",
       "      <td>None</td>\n",
       "      <td>None</td>\n",
       "      <td>None</td>\n",
       "      <td>None</td>\n",
       "      <td>External</td>\n",
       "      <td>Constructed</td>\n",
       "    </tr>\n",
       "    <tr>\n",
       "      <th>4</th>\n",
       "      <td>POINT (-73.90532182350593 40.72771532765737)</td>\n",
       "      <td>187205</td>\n",
       "      <td>FrankP1</td>\n",
       "      <td>Q131-115M</td>\n",
       "      <td>1</td>\n",
       "      <td>Onsite</td>\n",
       "      <td>Frank Principe Park Ballfields Reconstruction</td>\n",
       "      <td>Synthetic Turf Field Storage Layer</td>\n",
       "      <td>Constructed</td>\n",
       "      <td>1.010492e+06</td>\n",
       "      <td>...</td>\n",
       "      <td>0.0</td>\n",
       "      <td>0.0</td>\n",
       "      <td>156052.00</td>\n",
       "      <td>None</td>\n",
       "      <td>None</td>\n",
       "      <td>None</td>\n",
       "      <td>None</td>\n",
       "      <td>None</td>\n",
       "      <td>External</td>\n",
       "      <td>Constructed</td>\n",
       "    </tr>\n",
       "    <tr>\n",
       "      <th>5</th>\n",
       "      <td>POINT (-73.91384618255019 40.66273858378287)</td>\n",
       "      <td>187221</td>\n",
       "      <td>BetsyHead1</td>\n",
       "      <td>B008-318M</td>\n",
       "      <td>1</td>\n",
       "      <td>Onsite</td>\n",
       "      <td>Betsy Head Park Synthetic Turf, Track, Sport C...</td>\n",
       "      <td>Synthetic Turf Field Storage Layer</td>\n",
       "      <td>Constructed</td>\n",
       "      <td>1.008152e+06</td>\n",
       "      <td>...</td>\n",
       "      <td>0.0</td>\n",
       "      <td>0.0</td>\n",
       "      <td>129244.00</td>\n",
       "      <td>None</td>\n",
       "      <td>None</td>\n",
       "      <td>None</td>\n",
       "      <td>None</td>\n",
       "      <td>None</td>\n",
       "      <td>External</td>\n",
       "      <td>Constructed</td>\n",
       "    </tr>\n",
       "    <tr>\n",
       "      <th>6</th>\n",
       "      <td>POINT (-74.19545588457119 40.561950486557514)</td>\n",
       "      <td>187241</td>\n",
       "      <td>Freshkills1</td>\n",
       "      <td>RG-12450-506M</td>\n",
       "      <td>1</td>\n",
       "      <td>Onsite</td>\n",
       "      <td>Freshkills Park Owl Hollow Fields Construction</td>\n",
       "      <td>Synthetic Turf Field Storage Layer</td>\n",
       "      <td>Constructed</td>\n",
       "      <td>9.299417e+05</td>\n",
       "      <td>...</td>\n",
       "      <td>0.0</td>\n",
       "      <td>0.0</td>\n",
       "      <td>303481.00</td>\n",
       "      <td>None</td>\n",
       "      <td>None</td>\n",
       "      <td>None</td>\n",
       "      <td>None</td>\n",
       "      <td>None</td>\n",
       "      <td>External</td>\n",
       "      <td>Constructed</td>\n",
       "    </tr>\n",
       "    <tr>\n",
       "      <th>7</th>\n",
       "      <td>POINT (-74.10000722901887 40.58677303959207)</td>\n",
       "      <td>187255</td>\n",
       "      <td>GenDM1</td>\n",
       "      <td>R067-117M</td>\n",
       "      <td>1</td>\n",
       "      <td>Onsite</td>\n",
       "      <td>Gen. Douglas MacArthur Park Ballfield and Bask...</td>\n",
       "      <td>Multiple GI Components</td>\n",
       "      <td>Constructed</td>\n",
       "      <td>9.564728e+05</td>\n",
       "      <td>...</td>\n",
       "      <td>0.0</td>\n",
       "      <td>0.0</td>\n",
       "      <td>117774.00</td>\n",
       "      <td>None</td>\n",
       "      <td>None</td>\n",
       "      <td>None</td>\n",
       "      <td>None</td>\n",
       "      <td>None</td>\n",
       "      <td>External</td>\n",
       "      <td>Constructed</td>\n",
       "    </tr>\n",
       "    <tr>\n",
       "      <th>8</th>\n",
       "      <td>POINT (-74.00553985329056 40.67329044837725)</td>\n",
       "      <td>187266</td>\n",
       "      <td>SWPS21-113-D01</td>\n",
       "      <td>B126-116M</td>\n",
       "      <td>1</td>\n",
       "      <td>Onsite</td>\n",
       "      <td>Red Hook Recreation Area Remediation and Recon...</td>\n",
       "      <td>Synthetic Turf Field Storage Layer</td>\n",
       "      <td>Constructed</td>\n",
       "      <td>9.827133e+05</td>\n",
       "      <td>...</td>\n",
       "      <td>0.0</td>\n",
       "      <td>0.0</td>\n",
       "      <td>145471.00</td>\n",
       "      <td>None</td>\n",
       "      <td>None</td>\n",
       "      <td>None</td>\n",
       "      <td>None</td>\n",
       "      <td>None</td>\n",
       "      <td>External</td>\n",
       "      <td>Constructed</td>\n",
       "    </tr>\n",
       "    <tr>\n",
       "      <th>9</th>\n",
       "      <td>POINT (-73.73900323902018 40.732978292706164)</td>\n",
       "      <td>189090</td>\n",
       "      <td>HILL-01MEDa</td>\n",
       "      <td>SEQ-MED-HW</td>\n",
       "      <td>1</td>\n",
       "      <td>ROW</td>\n",
       "      <td>Hillside Ave and Winchester Blvd</td>\n",
       "      <td>ROW Median</td>\n",
       "      <td>100% Design Submitted</td>\n",
       "      <td>1.056583e+06</td>\n",
       "      <td>...</td>\n",
       "      <td>1480.0</td>\n",
       "      <td>70.0</td>\n",
       "      <td>103600.00</td>\n",
       "      <td>None</td>\n",
       "      <td>None</td>\n",
       "      <td>None</td>\n",
       "      <td>None</td>\n",
       "      <td>None</td>\n",
       "      <td>Public Onsite</td>\n",
       "      <td>Final Design</td>\n",
       "    </tr>\n",
       "  </tbody>\n",
       "</table>\n",
       "<p>10 rows × 30 columns</p>\n",
       "</div>"
      ],
      "text/plain": [
       "                                        the_geom  Asset_ID           GI_ID  \\\n",
       "0  POINT (-74.00229569924448 40.757951817712886)    138087          JCGR-1   \n",
       "1   POINT (-73.97540677936354 40.68267969192586)    184036          BRCL_1   \n",
       "2   POINT (-73.97336608102242 40.72171423026087)    187175        JohnVL-1   \n",
       "3   POINT (-73.87308060078496 40.67026320022855)    187191      B103-01STa   \n",
       "4   POINT (-73.90532182350593 40.72771532765737)    187205         FrankP1   \n",
       "5   POINT (-73.91384618255019 40.66273858378287)    187221      BetsyHead1   \n",
       "6  POINT (-74.19545588457119 40.561950486557514)    187241     Freshkills1   \n",
       "7   POINT (-74.10000722901887 40.58677303959207)    187255          GenDM1   \n",
       "8   POINT (-74.00553985329056 40.67329044837725)    187266  SWPS21-113-D01   \n",
       "9  POINT (-73.73900323902018 40.732978292706164)    189090     HILL-01MEDa   \n",
       "\n",
       "      DEP_Contra DEP_Cont_1 Row_Onsite  \\\n",
       "0     PRIVATE_GR         OA     Onsite   \n",
       "1        EXTGR-1          1     Onsite   \n",
       "2     M144-214MA          1     Onsite   \n",
       "3      B103-116M          1     Onsite   \n",
       "4      Q131-115M          1     Onsite   \n",
       "5      B008-318M          1     Onsite   \n",
       "6  RG-12450-506M          1     Onsite   \n",
       "7      R067-117M          1     Onsite   \n",
       "8      B126-116M          1     Onsite   \n",
       "9     SEQ-MED-HW          1        ROW   \n",
       "\n",
       "                                          Project_Na  \\\n",
       "0                           Javits Center Green Roof   \n",
       "1                                620 Atlantic Avenue   \n",
       "2  John V. Lindsay East River Park - Synthetic Tu...   \n",
       "3  Cypress Hills PG - Synthetic Turf Field Constr...   \n",
       "4      Frank Principe Park Ballfields Reconstruction   \n",
       "5  Betsy Head Park Synthetic Turf, Track, Sport C...   \n",
       "6     Freshkills Park Owl Hollow Fields Construction   \n",
       "7  Gen. Douglas MacArthur Park Ballfield and Bask...   \n",
       "8  Red Hook Recreation Area Remediation and Recon...   \n",
       "9                   Hillside Ave and Winchester Blvd   \n",
       "\n",
       "                           Asset_Type                 Status    Asset_X_Co  \\\n",
       "0                          Green Roof            Constructed  9.836140e+05   \n",
       "1                          Green Roof            Constructed  9.910710e+05   \n",
       "2  Synthetic Turf Field Storage Layer            Constructed  9.916327e+05   \n",
       "3  Synthetic Turf Field Storage Layer            Constructed  1.019458e+06   \n",
       "4  Synthetic Turf Field Storage Layer            Constructed  1.010492e+06   \n",
       "5  Synthetic Turf Field Storage Layer            Constructed  1.008152e+06   \n",
       "6  Synthetic Turf Field Storage Layer            Constructed  9.299417e+05   \n",
       "7              Multiple GI Components            Constructed  9.564728e+05   \n",
       "8  Synthetic Turf Field Storage Layer            Constructed  9.827133e+05   \n",
       "9                          ROW Median  100% Design Submitted  1.056583e+06   \n",
       "\n",
       "   ...  Asset_Leng Asset_Widt Asset_Area GI_Feature Tree_Latin  Tree_Commo  \\\n",
       "0  ...         0.0        0.0  435000.00       None       None        None   \n",
       "1  ...         0.0        0.0  128158.78       None       None        None   \n",
       "2  ...         0.0        0.0  102660.00       None       None        None   \n",
       "3  ...       439.0      296.0  130383.00       None       None        None   \n",
       "4  ...         0.0        0.0  156052.00       None       None        None   \n",
       "5  ...         0.0        0.0  129244.00       None       None        None   \n",
       "6  ...         0.0        0.0  303481.00       None       None        None   \n",
       "7  ...         0.0        0.0  117774.00       None       None        None   \n",
       "8  ...         0.0        0.0  145471.00       None       None        None   \n",
       "9  ...      1480.0       70.0  103600.00       None       None        None   \n",
       "\n",
       "   Constructi  Construc_1     Program_Ar    Status_Gro  \n",
       "0        None        None       External   Constructed  \n",
       "1        None        None       External   Constructed  \n",
       "2        None        None       External   Constructed  \n",
       "3        None        None       External   Constructed  \n",
       "4        None        None       External   Constructed  \n",
       "5        None        None       External   Constructed  \n",
       "6        None        None       External   Constructed  \n",
       "7        None        None       External   Constructed  \n",
       "8        None        None       External   Constructed  \n",
       "9        None        None  Public Onsite  Final Design  \n",
       "\n",
       "[10 rows x 30 columns]"
      ]
     },
     "execution_count": 35,
     "metadata": {},
     "output_type": "execute_result"
    }
   ],
   "source": [
    "%%sql\n",
    "SELECT *\n",
    "FROM \"data/green_infrastructure.csv\"\n",
    "WHERE Asset_Area > 100000;"
   ]
  },
  {
   "cell_type": "code",
   "execution_count": 36,
   "id": "44943d4b",
   "metadata": {},
   "outputs": [
    {
     "data": {
      "text/html": [
       "<span style=\"None\">Skipping execution...</span>"
      ],
      "text/plain": [
       "Skipping execution..."
      ]
     },
     "metadata": {},
     "output_type": "display_data"
    }
   ],
   "source": [
    "%%sql --save green_infra --no-execute\n",
    "SELECT *\n",
    "FROM \"data/green_infrastructure.csv\";"
   ]
  },
  {
   "cell_type": "code",
   "execution_count": 37,
   "id": "dcce7244",
   "metadata": {},
   "outputs": [
    {
     "data": {
      "text/plain": [
       "<AxesSubplot:title={'center':\"'Asset_Area' from 'green_infra'\"}, ylabel='Asset_Area'>"
      ]
     },
     "execution_count": 37,
     "metadata": {},
     "output_type": "execute_result"
    },
    {
     "data": {
      "image/png": "[encoded data removed]",
      "text/plain": [
       "<Figure size 432x288 with 1 Axes>"
      ]
     },
     "metadata": {
      "needs_background": "light"
     },
     "output_type": "display_data"
    }
   ],
   "source": [
    "%sqlplot boxplot -t green_infra -c Asset_Area --with green_infra"
   ]
  },
  {
   "cell_type": "code",
   "execution_count": 38,
   "id": "c4aab97f",
   "metadata": {},
   "outputs": [
    {
     "data": {
      "text/plain": [
       "<AxesSubplot:title={'center':\"'Asset_Area' from 'green_infra'\"}, xlabel='Asset_Area', ylabel='Count'>"
      ]
     },
     "execution_count": 38,
     "metadata": {},
     "output_type": "execute_result"
    },
    {
     "data": {
      "image/png": "[encoded data removed]",
      "text/plain": [
       "<Figure size 432x288 with 1 Axes>"
      ]
     },
     "metadata": {
      "needs_background": "light"
     },
     "output_type": "display_data"
    }
   ],
   "source": [
    "%sqlplot histogram -t green_infra -c Asset_Area --with green_infra"
   ]
  },
  {
   "cell_type": "code",
   "execution_count": null,
   "id": "29e016a7",
   "metadata": {},
   "outputs": [],
   "source": []
  }
 ],
 "metadata": {
  "kernelspec": {
   "display_name": "Python 3 (ipykernel)",
   "language": "python",
   "name": "python3"
  },
  "language_info": {
   "codemirror_mode": {
    "name": "ipython",
    "version": 3
   },
   "file_extension": ".py",
   "mimetype": "text/x-python",
   "name": "python",
   "nbconvert_exporter": "python",
   "pygments_lexer": "ipython3",
   "version": "3.8.13"
  }
 },
 "nbformat": 4,
 "nbformat_minor": 5
}
